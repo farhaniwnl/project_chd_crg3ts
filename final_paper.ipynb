{
 "cells": [
  {
   "cell_type": "markdown",
   "metadata": {},
   "source": [
    "# **Summary**\n",
    "\n",
    "This project leverages data from the Framingham Heart Study to predict the ten-year risk of coronary heart disease (CHD) using several health indicators. The variables utilized include age, sex, smoking status, blood pressure measurements, glucose levels, and more. The initial challenge was cleaning the raw data, which involved identifying and addressing various missing values across the dataset. Imputation strategies were devised based on the nature of the data and its relationships observed through a correlation matrix, employing methods like median replacement, conditional imputation, and proportional assignment for missing data points.\n",
    "\n",
    "After cleaning both the training and testing datasets, several predictive models were developed to assess the risk of CHD: K-Nearest Neighbors (KNN), Decision Tree, and Linear Regression. Each model aimed to exploit different aspects of the data. For the KNN model, the data was normalized using a min-max scaling approach, and an optimal number of neighbors was determined through minimizing the sum of squared errors, resulting in a specific k-value that provided the best fit for the data. The Decision Tree model utilized a subset of variables and was visualized to depict the decision paths and the depth used in predictions. Lastly, the Linear Regression model incorporated a broader set of variables, and performance metrics such as R-squared were calculated to gauge model accuracy and predictive power.\n",
    "\n",
    "The results from these models yielded various degrees of success, quantified by error metrics and R-squared values, highlighting the complexity and challenges in predicting CHD risk based on available health data. Each model offered insights into the significant predictors and their impact on the outcome, demonstrating the practical implications of applying machine learning techniques in epidemiological studies. This approach not only aids in understanding the relative importance of different risk factors but also enhances the prediction of cardiovascular events, contributing to more targeted prevention strategies in clinical settings."
   ]
  },
  {
   "cell_type": "markdown",
   "metadata": {},
   "source": [
    "# **Data Overview and Cleaning Process**\n",
    "\n",
    "## Data Description\n",
    "The dataset for this project includes various health indicators from the Framingham Heart Study aimed at predicting the ten-year risk of coronary heart disease (CHD). Key variables include:\n",
    "\n",
    "- **Age**: Participant's age at the time of the study.\n",
    "- **Sex**: Participant's gender.\n",
    "- **Education**: Levels of educational attainment.\n",
    "- **CurrentSmoker** and **CigsPerDay**: Smoking status and average cigarettes smoked per day.\n",
    "- **BPMeds**: Whether the participant is on blood pressure medication.\n",
    "- **PrevalentStroke**, **PrevalentHyp**: Whether the participant had a previous stroke or hypertension.\n",
    "- **Diabetes**: Indicates if the participant has diabetes.\n",
    "- **TotChol**: Total cholesterol level.\n",
    "- **SysBP** and **DiaBP**: Systolic and diastolic blood pressure.\n",
    "- **BMI**: Body Mass Index, a measure based on height and weight.\n",
    "- **HeartRate**: Participant's heart rate.\n",
    "- **Glucose**: Glucose level.\n",
    "\n",
    "## Data Challenges\n",
    "Challenges encountered during the data handling phase included:\n",
    "\n",
    "1. **Loading and Initial Observations**:\n",
    "   - Data was successfully loaded from CSV files.\n",
    "   - An unused column \"Unnamed: 0\" was identified and removed.\n",
    "\n",
    "2. **Missing Values**:\n",
    "   - Missing values were prevalent across several variables:\n",
    "     - Education (85 missing in training, 20 in testing)\n",
    "     - CigsPerDay (24 missing in training, 5 in testing)\n",
    "     - BPMeds (37 missing in training, 16 in testing)\n",
    "     - TotChol (39 missing in training, 11 in testing)\n",
    "     - BMI (15 missing in training, 4 in testing)\n",
    "     - Glucose (285 missing in training, 103 in testing)\n",
    "\n",
    "3. **Imputation Strategy**:\n",
    "   - **Education and CigsPerDay**: Handled using median and conditional imputation based on correlations.\n",
    "   - **BPMeds**: Proportional imputation based on dataset proportions.\n",
    "   - **TotChol, BMI, and Glucose**: Imputed using median values and specific strategies considering the presence of diabetes.\n",
    "   - **HeartRate** (testing data): One missing value dropped due to minimal impact.\n",
    "\n",
    "4. **Data Verification and Export**:\n",
    "   - Post-imputation, the integrity of the data was rechecked.\n",
    "   - Cleaned datasets were saved to new CSV files for further analysis.\n",
    "\n",
    "\n"
   ]
  },
  {
   "cell_type": "code",
   "execution_count": 2,
   "metadata": {},
   "outputs": [],
   "source": [
    "import numpy as np\n",
    "import pandas as pd\n",
    "import seaborn as sns\n",
    "import matplotlib.pyplot as plt"
   ]
  },
  {
   "cell_type": "markdown",
   "metadata": {},
   "source": [
    "### Train Data Cleaning Process\n",
    "#### Load the training from CSV files"
   ]
  },
  {
   "cell_type": "code",
   "execution_count": 3,
   "metadata": {},
   "outputs": [
    {
     "data": {
      "text/html": [
       "<div>\n",
       "<style scoped>\n",
       "    .dataframe tbody tr th:only-of-type {\n",
       "        vertical-align: middle;\n",
       "    }\n",
       "\n",
       "    .dataframe tbody tr th {\n",
       "        vertical-align: top;\n",
       "    }\n",
       "\n",
       "    .dataframe thead th {\n",
       "        text-align: right;\n",
       "    }\n",
       "</style>\n",
       "<table border=\"1\" class=\"dataframe\">\n",
       "  <thead>\n",
       "    <tr style=\"text-align: right;\">\n",
       "      <th></th>\n",
       "      <th>Unnamed: 0</th>\n",
       "      <th>sex</th>\n",
       "      <th>age</th>\n",
       "      <th>education</th>\n",
       "      <th>currentSmoker</th>\n",
       "      <th>cigsPerDay</th>\n",
       "      <th>BPMeds</th>\n",
       "      <th>prevalentStroke</th>\n",
       "      <th>prevalentHyp</th>\n",
       "      <th>diabetes</th>\n",
       "      <th>totChol</th>\n",
       "      <th>sysBP</th>\n",
       "      <th>diaBP</th>\n",
       "      <th>BMI</th>\n",
       "      <th>heartRate</th>\n",
       "      <th>glucose</th>\n",
       "      <th>TenYearCHD</th>\n",
       "    </tr>\n",
       "  </thead>\n",
       "  <tbody>\n",
       "    <tr>\n",
       "      <th>0</th>\n",
       "      <td>1267</td>\n",
       "      <td>1</td>\n",
       "      <td>58</td>\n",
       "      <td>1.0</td>\n",
       "      <td>0</td>\n",
       "      <td>0.0</td>\n",
       "      <td>0.0</td>\n",
       "      <td>0</td>\n",
       "      <td>0</td>\n",
       "      <td>0</td>\n",
       "      <td>220.0</td>\n",
       "      <td>143.0</td>\n",
       "      <td>104.0</td>\n",
       "      <td>29.85</td>\n",
       "      <td>75</td>\n",
       "      <td>87.0</td>\n",
       "      <td>1</td>\n",
       "    </tr>\n",
       "    <tr>\n",
       "      <th>1</th>\n",
       "      <td>1209</td>\n",
       "      <td>0</td>\n",
       "      <td>40</td>\n",
       "      <td>1.0</td>\n",
       "      <td>1</td>\n",
       "      <td>15.0</td>\n",
       "      <td>0.0</td>\n",
       "      <td>0</td>\n",
       "      <td>0</td>\n",
       "      <td>0</td>\n",
       "      <td>199.0</td>\n",
       "      <td>122.0</td>\n",
       "      <td>82.0</td>\n",
       "      <td>22.16</td>\n",
       "      <td>85</td>\n",
       "      <td>77.0</td>\n",
       "      <td>0</td>\n",
       "    </tr>\n",
       "    <tr>\n",
       "      <th>2</th>\n",
       "      <td>2050</td>\n",
       "      <td>0</td>\n",
       "      <td>52</td>\n",
       "      <td>1.0</td>\n",
       "      <td>0</td>\n",
       "      <td>0.0</td>\n",
       "      <td>0.0</td>\n",
       "      <td>0</td>\n",
       "      <td>0</td>\n",
       "      <td>0</td>\n",
       "      <td>275.0</td>\n",
       "      <td>112.0</td>\n",
       "      <td>71.0</td>\n",
       "      <td>25.68</td>\n",
       "      <td>80</td>\n",
       "      <td>NaN</td>\n",
       "      <td>0</td>\n",
       "    </tr>\n",
       "    <tr>\n",
       "      <th>3</th>\n",
       "      <td>1183</td>\n",
       "      <td>1</td>\n",
       "      <td>38</td>\n",
       "      <td>2.0</td>\n",
       "      <td>1</td>\n",
       "      <td>43.0</td>\n",
       "      <td>0.0</td>\n",
       "      <td>0</td>\n",
       "      <td>1</td>\n",
       "      <td>0</td>\n",
       "      <td>170.0</td>\n",
       "      <td>130.0</td>\n",
       "      <td>94.0</td>\n",
       "      <td>23.90</td>\n",
       "      <td>110</td>\n",
       "      <td>75.0</td>\n",
       "      <td>0</td>\n",
       "    </tr>\n",
       "    <tr>\n",
       "      <th>4</th>\n",
       "      <td>3225</td>\n",
       "      <td>0</td>\n",
       "      <td>43</td>\n",
       "      <td>1.0</td>\n",
       "      <td>0</td>\n",
       "      <td>0.0</td>\n",
       "      <td>0.0</td>\n",
       "      <td>0</td>\n",
       "      <td>0</td>\n",
       "      <td>0</td>\n",
       "      <td>202.0</td>\n",
       "      <td>124.0</td>\n",
       "      <td>92.0</td>\n",
       "      <td>21.26</td>\n",
       "      <td>75</td>\n",
       "      <td>74.0</td>\n",
       "      <td>0</td>\n",
       "    </tr>\n",
       "  </tbody>\n",
       "</table>\n",
       "</div>"
      ],
      "text/plain": [
       "   Unnamed: 0  sex  age  education  currentSmoker  cigsPerDay  BPMeds  \\\n",
       "0        1267    1   58        1.0              0         0.0     0.0   \n",
       "1        1209    0   40        1.0              1        15.0     0.0   \n",
       "2        2050    0   52        1.0              0         0.0     0.0   \n",
       "3        1183    1   38        2.0              1        43.0     0.0   \n",
       "4        3225    0   43        1.0              0         0.0     0.0   \n",
       "\n",
       "   prevalentStroke  prevalentHyp  diabetes  totChol  sysBP  diaBP    BMI  \\\n",
       "0                0             0         0    220.0  143.0  104.0  29.85   \n",
       "1                0             0         0    199.0  122.0   82.0  22.16   \n",
       "2                0             0         0    275.0  112.0   71.0  25.68   \n",
       "3                0             1         0    170.0  130.0   94.0  23.90   \n",
       "4                0             0         0    202.0  124.0   92.0  21.26   \n",
       "\n",
       "   heartRate  glucose  TenYearCHD  \n",
       "0         75     87.0           1  \n",
       "1         85     77.0           0  \n",
       "2         80      NaN           0  \n",
       "3        110     75.0           0  \n",
       "4         75     74.0           0  "
      ]
     },
     "execution_count": 3,
     "metadata": {},
     "output_type": "execute_result"
    }
   ],
   "source": [
    "train_data = pd.read_csv(\"./fhs_train.csv\")\n",
    "train_data.head()\n"
   ]
  },
  {
   "cell_type": "code",
   "execution_count": 4,
   "metadata": {},
   "outputs": [
    {
     "data": {
      "text/html": [
       "<div>\n",
       "<style scoped>\n",
       "    .dataframe tbody tr th:only-of-type {\n",
       "        vertical-align: middle;\n",
       "    }\n",
       "\n",
       "    .dataframe tbody tr th {\n",
       "        vertical-align: top;\n",
       "    }\n",
       "\n",
       "    .dataframe thead th {\n",
       "        text-align: right;\n",
       "    }\n",
       "</style>\n",
       "<table border=\"1\" class=\"dataframe\">\n",
       "  <thead>\n",
       "    <tr style=\"text-align: right;\">\n",
       "      <th></th>\n",
       "      <th>Unnamed: 0</th>\n",
       "      <th>sex</th>\n",
       "      <th>age</th>\n",
       "      <th>education</th>\n",
       "      <th>currentSmoker</th>\n",
       "      <th>cigsPerDay</th>\n",
       "      <th>BPMeds</th>\n",
       "      <th>prevalentStroke</th>\n",
       "      <th>prevalentHyp</th>\n",
       "      <th>diabetes</th>\n",
       "      <th>totChol</th>\n",
       "      <th>sysBP</th>\n",
       "      <th>diaBP</th>\n",
       "      <th>BMI</th>\n",
       "      <th>heartRate</th>\n",
       "      <th>glucose</th>\n",
       "      <th>TenYearCHD</th>\n",
       "    </tr>\n",
       "  </thead>\n",
       "  <tbody>\n",
       "    <tr>\n",
       "      <th>count</th>\n",
       "      <td>3180.000000</td>\n",
       "      <td>3180.000000</td>\n",
       "      <td>3180.000000</td>\n",
       "      <td>3095.000000</td>\n",
       "      <td>3180.000000</td>\n",
       "      <td>3156.000000</td>\n",
       "      <td>3143.000000</td>\n",
       "      <td>3180.000000</td>\n",
       "      <td>3180.000000</td>\n",
       "      <td>3180.000000</td>\n",
       "      <td>3141.000000</td>\n",
       "      <td>3180.000000</td>\n",
       "      <td>3180.000000</td>\n",
       "      <td>3165.000000</td>\n",
       "      <td>3180.000000</td>\n",
       "      <td>2895.000000</td>\n",
       "      <td>3180.000000</td>\n",
       "    </tr>\n",
       "    <tr>\n",
       "      <th>mean</th>\n",
       "      <td>2129.740881</td>\n",
       "      <td>0.433019</td>\n",
       "      <td>49.633962</td>\n",
       "      <td>1.957027</td>\n",
       "      <td>0.490881</td>\n",
       "      <td>8.970532</td>\n",
       "      <td>0.029590</td>\n",
       "      <td>0.006604</td>\n",
       "      <td>0.321069</td>\n",
       "      <td>0.026101</td>\n",
       "      <td>236.600764</td>\n",
       "      <td>132.784748</td>\n",
       "      <td>83.117767</td>\n",
       "      <td>25.888117</td>\n",
       "      <td>75.942138</td>\n",
       "      <td>81.833506</td>\n",
       "      <td>0.153145</td>\n",
       "    </tr>\n",
       "    <tr>\n",
       "      <th>std</th>\n",
       "      <td>1231.779357</td>\n",
       "      <td>0.495571</td>\n",
       "      <td>8.557596</td>\n",
       "      <td>1.011135</td>\n",
       "      <td>0.499995</td>\n",
       "      <td>12.013704</td>\n",
       "      <td>0.169479</td>\n",
       "      <td>0.081008</td>\n",
       "      <td>0.466961</td>\n",
       "      <td>0.159460</td>\n",
       "      <td>44.847411</td>\n",
       "      <td>22.433267</td>\n",
       "      <td>12.009212</td>\n",
       "      <td>4.130475</td>\n",
       "      <td>12.050504</td>\n",
       "      <td>23.625357</td>\n",
       "      <td>0.360184</td>\n",
       "    </tr>\n",
       "    <tr>\n",
       "      <th>min</th>\n",
       "      <td>1.000000</td>\n",
       "      <td>0.000000</td>\n",
       "      <td>32.000000</td>\n",
       "      <td>1.000000</td>\n",
       "      <td>0.000000</td>\n",
       "      <td>0.000000</td>\n",
       "      <td>0.000000</td>\n",
       "      <td>0.000000</td>\n",
       "      <td>0.000000</td>\n",
       "      <td>0.000000</td>\n",
       "      <td>107.000000</td>\n",
       "      <td>83.500000</td>\n",
       "      <td>50.000000</td>\n",
       "      <td>15.540000</td>\n",
       "      <td>44.000000</td>\n",
       "      <td>40.000000</td>\n",
       "      <td>0.000000</td>\n",
       "    </tr>\n",
       "    <tr>\n",
       "      <th>25%</th>\n",
       "      <td>1062.750000</td>\n",
       "      <td>0.000000</td>\n",
       "      <td>42.000000</td>\n",
       "      <td>1.000000</td>\n",
       "      <td>0.000000</td>\n",
       "      <td>0.000000</td>\n",
       "      <td>0.000000</td>\n",
       "      <td>0.000000</td>\n",
       "      <td>0.000000</td>\n",
       "      <td>0.000000</td>\n",
       "      <td>205.000000</td>\n",
       "      <td>117.000000</td>\n",
       "      <td>75.000000</td>\n",
       "      <td>23.100000</td>\n",
       "      <td>68.000000</td>\n",
       "      <td>71.000000</td>\n",
       "      <td>0.000000</td>\n",
       "    </tr>\n",
       "    <tr>\n",
       "      <th>50%</th>\n",
       "      <td>2137.500000</td>\n",
       "      <td>0.000000</td>\n",
       "      <td>49.000000</td>\n",
       "      <td>2.000000</td>\n",
       "      <td>0.000000</td>\n",
       "      <td>0.000000</td>\n",
       "      <td>0.000000</td>\n",
       "      <td>0.000000</td>\n",
       "      <td>0.000000</td>\n",
       "      <td>0.000000</td>\n",
       "      <td>233.000000</td>\n",
       "      <td>129.000000</td>\n",
       "      <td>82.000000</td>\n",
       "      <td>25.490000</td>\n",
       "      <td>75.000000</td>\n",
       "      <td>78.000000</td>\n",
       "      <td>0.000000</td>\n",
       "    </tr>\n",
       "    <tr>\n",
       "      <th>75%</th>\n",
       "      <td>3209.250000</td>\n",
       "      <td>1.000000</td>\n",
       "      <td>56.000000</td>\n",
       "      <td>3.000000</td>\n",
       "      <td>1.000000</td>\n",
       "      <td>20.000000</td>\n",
       "      <td>0.000000</td>\n",
       "      <td>0.000000</td>\n",
       "      <td>1.000000</td>\n",
       "      <td>0.000000</td>\n",
       "      <td>262.000000</td>\n",
       "      <td>144.125000</td>\n",
       "      <td>90.000000</td>\n",
       "      <td>28.140000</td>\n",
       "      <td>83.000000</td>\n",
       "      <td>87.000000</td>\n",
       "      <td>0.000000</td>\n",
       "    </tr>\n",
       "    <tr>\n",
       "      <th>max</th>\n",
       "      <td>4240.000000</td>\n",
       "      <td>1.000000</td>\n",
       "      <td>70.000000</td>\n",
       "      <td>4.000000</td>\n",
       "      <td>1.000000</td>\n",
       "      <td>70.000000</td>\n",
       "      <td>1.000000</td>\n",
       "      <td>1.000000</td>\n",
       "      <td>1.000000</td>\n",
       "      <td>1.000000</td>\n",
       "      <td>696.000000</td>\n",
       "      <td>295.000000</td>\n",
       "      <td>142.500000</td>\n",
       "      <td>56.800000</td>\n",
       "      <td>140.000000</td>\n",
       "      <td>394.000000</td>\n",
       "      <td>1.000000</td>\n",
       "    </tr>\n",
       "  </tbody>\n",
       "</table>\n",
       "</div>"
      ],
      "text/plain": [
       "        Unnamed: 0          sex          age    education  currentSmoker  \\\n",
       "count  3180.000000  3180.000000  3180.000000  3095.000000    3180.000000   \n",
       "mean   2129.740881     0.433019    49.633962     1.957027       0.490881   \n",
       "std    1231.779357     0.495571     8.557596     1.011135       0.499995   \n",
       "min       1.000000     0.000000    32.000000     1.000000       0.000000   \n",
       "25%    1062.750000     0.000000    42.000000     1.000000       0.000000   \n",
       "50%    2137.500000     0.000000    49.000000     2.000000       0.000000   \n",
       "75%    3209.250000     1.000000    56.000000     3.000000       1.000000   \n",
       "max    4240.000000     1.000000    70.000000     4.000000       1.000000   \n",
       "\n",
       "        cigsPerDay       BPMeds  prevalentStroke  prevalentHyp     diabetes  \\\n",
       "count  3156.000000  3143.000000      3180.000000   3180.000000  3180.000000   \n",
       "mean      8.970532     0.029590         0.006604      0.321069     0.026101   \n",
       "std      12.013704     0.169479         0.081008      0.466961     0.159460   \n",
       "min       0.000000     0.000000         0.000000      0.000000     0.000000   \n",
       "25%       0.000000     0.000000         0.000000      0.000000     0.000000   \n",
       "50%       0.000000     0.000000         0.000000      0.000000     0.000000   \n",
       "75%      20.000000     0.000000         0.000000      1.000000     0.000000   \n",
       "max      70.000000     1.000000         1.000000      1.000000     1.000000   \n",
       "\n",
       "           totChol        sysBP        diaBP          BMI    heartRate  \\\n",
       "count  3141.000000  3180.000000  3180.000000  3165.000000  3180.000000   \n",
       "mean    236.600764   132.784748    83.117767    25.888117    75.942138   \n",
       "std      44.847411    22.433267    12.009212     4.130475    12.050504   \n",
       "min     107.000000    83.500000    50.000000    15.540000    44.000000   \n",
       "25%     205.000000   117.000000    75.000000    23.100000    68.000000   \n",
       "50%     233.000000   129.000000    82.000000    25.490000    75.000000   \n",
       "75%     262.000000   144.125000    90.000000    28.140000    83.000000   \n",
       "max     696.000000   295.000000   142.500000    56.800000   140.000000   \n",
       "\n",
       "           glucose   TenYearCHD  \n",
       "count  2895.000000  3180.000000  \n",
       "mean     81.833506     0.153145  \n",
       "std      23.625357     0.360184  \n",
       "min      40.000000     0.000000  \n",
       "25%      71.000000     0.000000  \n",
       "50%      78.000000     0.000000  \n",
       "75%      87.000000     0.000000  \n",
       "max     394.000000     1.000000  "
      ]
     },
     "execution_count": 4,
     "metadata": {},
     "output_type": "execute_result"
    }
   ],
   "source": [
    "train_data.describe()"
   ]
  },
  {
   "cell_type": "markdown",
   "metadata": {},
   "source": [
    "There seems to be an unused column \"Unnamed: 0\", let's remove that first.\n"
   ]
  },
  {
   "cell_type": "code",
   "execution_count": 5,
   "metadata": {},
   "outputs": [],
   "source": [
    "train_data.drop('Unnamed: 0', axis=1, inplace=True)"
   ]
  },
  {
   "cell_type": "code",
   "execution_count": 6,
   "metadata": {},
   "outputs": [
    {
     "data": {
      "text/plain": [
       "sex                  0\n",
       "age                  0\n",
       "education           85\n",
       "currentSmoker        0\n",
       "cigsPerDay          24\n",
       "BPMeds              37\n",
       "prevalentStroke      0\n",
       "prevalentHyp         0\n",
       "diabetes             0\n",
       "totChol             39\n",
       "sysBP                0\n",
       "diaBP                0\n",
       "BMI                 15\n",
       "heartRate            0\n",
       "glucose            285\n",
       "TenYearCHD           0\n",
       "dtype: int64"
      ]
     },
     "execution_count": 6,
     "metadata": {},
     "output_type": "execute_result"
    }
   ],
   "source": [
    "train_data.isnull().sum()"
   ]
  },
  {
   "cell_type": "markdown",
   "metadata": {},
   "source": [
    "As seen from above, there are some missing values in a handful of variables:\n",
    "\n",
    "- education (85 missing)\n",
    "- cigsPerDay (24 missing)\n",
    "- BPMeds (37 missing)\n",
    "- totChol (39 missing)\n",
    "- BMI (15 missing)\n",
    "- glucose (285 missing)\n",
    "\n",
    "Let's observe how to continue and remove or fill in these missing values."
   ]
  },
  {
   "cell_type": "code",
   "execution_count": 7,
   "metadata": {},
   "outputs": [
    {
     "data": {
      "image/png": "[encoded data removed]",
      "text/plain": [
       "<Figure size 1200x800 with 2 Axes>"
      ]
     },
     "metadata": {},
     "output_type": "display_data"
    }
   ],
   "source": [
    "corr = train_data.corr()\n",
    "plt.figure(figsize=(12, 8))\n",
    "sns.heatmap(corr, annot=True, cmap='coolwarm', linewidths=0.5)\n",
    "plt.show()"
   ]
  },
  {
   "cell_type": "markdown",
   "metadata": {},
   "source": [
    "Using the correlation matrix, we can determine how to go about handling the nan values. From the correlation matrix, we see that:\n",
    "\n",
    "*education*: This variable had some missing values. It doesn't have a strong correlation with any other variable, so using the median is an appropriate choice for categorical data.\n",
    "\n",
    "*cigsPerDay*: Also had missing values, but since it's highly correlated with currentSmoker, we will use a more nuanced approach for imputation. For current smokers (currentSmoker == 1), we could impute missing cigsPerDay with the median of cigsPerDay for all current smokers. For non-smokers (currentSmoker == 0), it's reasonable to impute any missing cigsPerDay with 0.\n",
    "\n",
    "*BPMeds*: There were missing values in this variable as well. It has a slight positive correlation with prevalentHyp and sysBP. But, we will use proportional imputation.\n",
    "\n",
    "*totChol*, *BMI*: These variables had missing values, and they show some correlations with other variables like age, sysBP, diaBP, etc. For these continuous variables, we could use multiple imputation techniques or predict missing values based on a regression model that includes correlated predictors. However, since these correlations are not very strong, the median imputation we initially used is a robust and straightforward approach.\n",
    "\n",
    "*glucose*: Also had missing values, but since it's highly correlated with diabetes, we will use a more nuanced approach for imputation. For glucose == 1, we could impute missing glucose with the mean of diabetics. For non-glucose (glucose == 0), it's reasonable to impute any missing glucose with mean of non-diabetics."
   ]
  },
  {
   "cell_type": "code",
   "execution_count": 8,
   "metadata": {},
   "outputs": [
    {
     "data": {
      "text/plain": [
       "sex                  0\n",
       "age                  0\n",
       "education           85\n",
       "currentSmoker        0\n",
       "cigsPerDay           0\n",
       "BPMeds              37\n",
       "prevalentStroke      0\n",
       "prevalentHyp         0\n",
       "diabetes             0\n",
       "totChol             39\n",
       "sysBP                0\n",
       "diaBP                0\n",
       "BMI                 15\n",
       "heartRate            0\n",
       "glucose            285\n",
       "TenYearCHD           0\n",
       "dtype: int64"
      ]
     },
     "execution_count": 8,
     "metadata": {},
     "output_type": "execute_result"
    }
   ],
   "source": [
    "median_cigs_smokers = train_data[train_data['currentSmoker'] == 1]['cigsPerDay'].median()\n",
    "\n",
    "# Impute missing cigsPerDay values for current smokers with the median and for non-smokers with 0\n",
    "train_data.loc[(train_data['currentSmoker'] == 1) & (train_data['cigsPerDay'].isnull()), 'cigsPerDay'] = median_cigs_smokers\n",
    "train_data.loc[(train_data['currentSmoker'] == 0) & (train_data['cigsPerDay'].isnull()), 'cigsPerDay'] = 0\n",
    "\n",
    "# Verify the imputation\n",
    "train_data.isnull().sum()"
   ]
  },
  {
   "cell_type": "code",
   "execution_count": 9,
   "metadata": {},
   "outputs": [
    {
     "data": {
      "text/plain": [
       "sex                  0\n",
       "age                  0\n",
       "education            0\n",
       "currentSmoker        0\n",
       "cigsPerDay           0\n",
       "BPMeds              37\n",
       "prevalentStroke      0\n",
       "prevalentHyp         0\n",
       "diabetes             0\n",
       "totChol             39\n",
       "sysBP                0\n",
       "diaBP                0\n",
       "BMI                 15\n",
       "heartRate            0\n",
       "glucose            285\n",
       "TenYearCHD           0\n",
       "dtype: int64"
      ]
     },
     "execution_count": 9,
     "metadata": {},
     "output_type": "execute_result"
    }
   ],
   "source": [
    "education_train = test_data['education'].median()\n",
    "\n",
    "#Fill with median\n",
    "test_data['education'].fillna(education_train, inplace=True)\n",
    "\n",
    "#Verify\n",
    "test_data.isnull().sum()"
   ]
  },
  {
   "cell_type": "code",
   "execution_count": 10,
   "metadata": {},
   "outputs": [
    {
     "data": {
      "text/plain": [
       "sex                  0\n",
       "age                  0\n",
       "education            0\n",
       "currentSmoker        0\n",
       "cigsPerDay           0\n",
       "BPMeds              37\n",
       "prevalentStroke      0\n",
       "prevalentHyp         0\n",
       "diabetes             0\n",
       "totChol              0\n",
       "sysBP                0\n",
       "diaBP                0\n",
       "BMI                  0\n",
       "heartRate            0\n",
       "glucose            285\n",
       "TenYearCHD           0\n",
       "dtype: int64"
      ]
     },
     "execution_count": 10,
     "metadata": {},
     "output_type": "execute_result"
    }
   ],
   "source": [
    "totChol_train = test_data['totChol'].median()\n",
    "\n",
    "#Fill with median\n",
    "train_data['totChol'].fillna(totChol_train, inplace=True)\n",
    "\n",
    "#Verify\n",
    "train_data.isnull().sum()\n",
    "bmi_train = train_data['BMI'].median()\n",
    "\n",
    "#Fill with median\n",
    "train_data['BMI'].fillna(bmi_train, inplace=True)\n",
    "\n",
    "#Verify\n",
    "train_data.isnull().sum()"
   ]
  },
  {
   "cell_type": "code",
   "execution_count": 11,
   "metadata": {},
   "outputs": [
    {
     "data": {
      "text/plain": [
       "sex                 0\n",
       "age                 0\n",
       "education           0\n",
       "currentSmoker       0\n",
       "cigsPerDay          0\n",
       "BPMeds             37\n",
       "prevalentStroke     0\n",
       "prevalentHyp        0\n",
       "diabetes            0\n",
       "totChol             0\n",
       "sysBP               0\n",
       "diaBP               0\n",
       "BMI                 0\n",
       "heartRate           0\n",
       "glucose             0\n",
       "TenYearCHD          0\n",
       "dtype: int64"
      ]
     },
     "execution_count": 11,
     "metadata": {},
     "output_type": "execute_result"
    }
   ],
   "source": [
    "# Calculate the mean glucose level for diabetic patients\n",
    "mean_glucose_diabetic = train_data[train_data['diabetes'] == 1]['glucose'].mean()\n",
    "\n",
    "# Calculate the mean glucose level for non-diabetic patients\n",
    "mean_glucose_non_diabetic = train_data[train_data['diabetes'] == 0]['glucose'].mean()\n",
    "\n",
    "# Function to apply the imputation logic\n",
    "def impute_glucose(row):\n",
    "    if pd.isnull(row['glucose']):\n",
    "        return mean_glucose_diabetic if row['diabetes'] == 1 else mean_glucose_non_diabetic\n",
    "    else:\n",
    "        return row['glucose']\n",
    "\n",
    "# Apply the function to the glucose column\n",
    "train_data['glucose'] = train_data.apply(impute_glucose, axis=1)\n",
    "\n",
    "#Verify\n",
    "train_data.isnull().sum()"
   ]
  },
  {
   "cell_type": "code",
   "execution_count": 12,
   "metadata": {},
   "outputs": [
    {
     "data": {
      "text/plain": [
       "0.02958956411072224"
      ]
     },
     "execution_count": 12,
     "metadata": {},
     "output_type": "execute_result"
    }
   ],
   "source": [
    "# Calculate the proportion of '1's in the BPMeds column of the original training data\n",
    "bpmeds_proportion = train_data['BPMeds'].mean()\n",
    "\n",
    "bpmeds_proportion"
   ]
  },
  {
   "cell_type": "markdown",
   "metadata": {},
   "source": [
    "The proportion of 1's seems to be about 3% in the train data\n"
   ]
  },
  {
   "cell_type": "code",
   "execution_count": 13,
   "metadata": {},
   "outputs": [
    {
     "data": {
      "text/plain": [
       "array([1., 0., 0., 0., 0., 0., 0., 0., 0., 0., 0., 0., 0., 0., 0., 0., 0.,\n",
       "       0., 0., 0., 0., 0., 0., 0., 0., 0., 0., 0., 0., 0., 0., 0., 0., 0.,\n",
       "       0., 0., 0.])"
      ]
     },
     "execution_count": 13,
     "metadata": {},
     "output_type": "execute_result"
    }
   ],
   "source": [
    "# Calculate how many of the missing values should be assigned a '1' based on the proportion\n",
    "num_ones_to_assign = int(np.round(bpmeds_proportion * 37))\n",
    "\n",
    "# Create an array of zeros for imputation\n",
    "imputed_bpmeds = np.zeros(37)\n",
    "\n",
    "# Assign '1's based on the calculated number\n",
    "imputed_bpmeds[:num_ones_to_assign] = 1\n",
    "\n",
    "imputed_bpmeds"
   ]
  },
  {
   "cell_type": "markdown",
   "metadata": {},
   "source": [
    "So, we will assign 1 NA value to 1 and the rest to be 0"
   ]
  },
  {
   "cell_type": "code",
   "execution_count": 14,
   "metadata": {},
   "outputs": [
    {
     "data": {
      "text/plain": [
       "sex                0\n",
       "age                0\n",
       "education          0\n",
       "currentSmoker      0\n",
       "cigsPerDay         0\n",
       "BPMeds             0\n",
       "prevalentStroke    0\n",
       "prevalentHyp       0\n",
       "diabetes           0\n",
       "totChol            0\n",
       "sysBP              0\n",
       "diaBP              0\n",
       "BMI                0\n",
       "heartRate          0\n",
       "glucose            0\n",
       "TenYearCHD         0\n",
       "dtype: int64"
      ]
     },
     "execution_count": 14,
     "metadata": {},
     "output_type": "execute_result"
    }
   ],
   "source": [
    "# Shuffle the array to randomly distribute the '1's\n",
    "np.random.shuffle(imputed_bpmeds)\n",
    "\n",
    "# Assign the imputed values back to the original dataframe (only for the missing values)\n",
    "train_data.loc[train_data['BPMeds'].isnull(), 'BPMeds'] = imputed_bpmeds\n",
    "\n",
    "#Verify\n",
    "train_data.isnull().sum()"
   ]
  },
  {
   "cell_type": "code",
   "execution_count": 15,
   "metadata": {},
   "outputs": [],
   "source": [
    "train_data.to_csv(\"train_cleaned.csv\",index=False)\n"
   ]
  },
  {
   "cell_type": "markdown",
   "metadata": {},
   "source": [
    "There are no more missing values to deal with in the train data."
   ]
  },
  {
   "cell_type": "markdown",
   "metadata": {},
   "source": [
    "#### Test Data Cleaning Process\n",
    "### Load the testing from CSV files"
   ]
  },
  {
   "cell_type": "code",
   "execution_count": 16,
   "metadata": {},
   "outputs": [
    {
     "data": {
      "text/html": [
       "<div>\n",
       "<style scoped>\n",
       "    .dataframe tbody tr th:only-of-type {\n",
       "        vertical-align: middle;\n",
       "    }\n",
       "\n",
       "    .dataframe tbody tr th {\n",
       "        vertical-align: top;\n",
       "    }\n",
       "\n",
       "    .dataframe thead th {\n",
       "        text-align: right;\n",
       "    }\n",
       "</style>\n",
       "<table border=\"1\" class=\"dataframe\">\n",
       "  <thead>\n",
       "    <tr style=\"text-align: right;\">\n",
       "      <th></th>\n",
       "      <th>Unnamed: 0</th>\n",
       "      <th>sex</th>\n",
       "      <th>age</th>\n",
       "      <th>education</th>\n",
       "      <th>currentSmoker</th>\n",
       "      <th>cigsPerDay</th>\n",
       "      <th>BPMeds</th>\n",
       "      <th>prevalentStroke</th>\n",
       "      <th>prevalentHyp</th>\n",
       "      <th>diabetes</th>\n",
       "      <th>totChol</th>\n",
       "      <th>sysBP</th>\n",
       "      <th>diaBP</th>\n",
       "      <th>BMI</th>\n",
       "      <th>heartRate</th>\n",
       "      <th>glucose</th>\n",
       "      <th>TenYearCHD</th>\n",
       "    </tr>\n",
       "  </thead>\n",
       "  <tbody>\n",
       "    <tr>\n",
       "      <th>0</th>\n",
       "      <td>674</td>\n",
       "      <td>0</td>\n",
       "      <td>58</td>\n",
       "      <td>1.0</td>\n",
       "      <td>1</td>\n",
       "      <td>20.0</td>\n",
       "      <td>0.0</td>\n",
       "      <td>0</td>\n",
       "      <td>0</td>\n",
       "      <td>0</td>\n",
       "      <td>NaN</td>\n",
       "      <td>126.0</td>\n",
       "      <td>77.0</td>\n",
       "      <td>30.08</td>\n",
       "      <td>78.0</td>\n",
       "      <td>NaN</td>\n",
       "      <td>0</td>\n",
       "    </tr>\n",
       "    <tr>\n",
       "      <th>1</th>\n",
       "      <td>4070</td>\n",
       "      <td>0</td>\n",
       "      <td>51</td>\n",
       "      <td>3.0</td>\n",
       "      <td>0</td>\n",
       "      <td>0.0</td>\n",
       "      <td>0.0</td>\n",
       "      <td>0</td>\n",
       "      <td>0</td>\n",
       "      <td>0</td>\n",
       "      <td>264.0</td>\n",
       "      <td>135.0</td>\n",
       "      <td>83.0</td>\n",
       "      <td>26.68</td>\n",
       "      <td>60.0</td>\n",
       "      <td>74.0</td>\n",
       "      <td>0</td>\n",
       "    </tr>\n",
       "    <tr>\n",
       "      <th>2</th>\n",
       "      <td>3150</td>\n",
       "      <td>0</td>\n",
       "      <td>44</td>\n",
       "      <td>2.0</td>\n",
       "      <td>1</td>\n",
       "      <td>9.0</td>\n",
       "      <td>0.0</td>\n",
       "      <td>0</td>\n",
       "      <td>1</td>\n",
       "      <td>0</td>\n",
       "      <td>NaN</td>\n",
       "      <td>147.5</td>\n",
       "      <td>96.0</td>\n",
       "      <td>30.57</td>\n",
       "      <td>78.0</td>\n",
       "      <td>NaN</td>\n",
       "      <td>1</td>\n",
       "    </tr>\n",
       "    <tr>\n",
       "      <th>3</th>\n",
       "      <td>1695</td>\n",
       "      <td>0</td>\n",
       "      <td>40</td>\n",
       "      <td>2.0</td>\n",
       "      <td>1</td>\n",
       "      <td>20.0</td>\n",
       "      <td>0.0</td>\n",
       "      <td>0</td>\n",
       "      <td>0</td>\n",
       "      <td>0</td>\n",
       "      <td>271.0</td>\n",
       "      <td>138.5</td>\n",
       "      <td>88.0</td>\n",
       "      <td>27.24</td>\n",
       "      <td>80.0</td>\n",
       "      <td>NaN</td>\n",
       "      <td>1</td>\n",
       "    </tr>\n",
       "    <tr>\n",
       "      <th>4</th>\n",
       "      <td>2692</td>\n",
       "      <td>1</td>\n",
       "      <td>58</td>\n",
       "      <td>2.0</td>\n",
       "      <td>1</td>\n",
       "      <td>20.0</td>\n",
       "      <td>0.0</td>\n",
       "      <td>0</td>\n",
       "      <td>0</td>\n",
       "      <td>0</td>\n",
       "      <td>207.0</td>\n",
       "      <td>110.0</td>\n",
       "      <td>80.0</td>\n",
       "      <td>23.55</td>\n",
       "      <td>78.0</td>\n",
       "      <td>78.0</td>\n",
       "      <td>0</td>\n",
       "    </tr>\n",
       "  </tbody>\n",
       "</table>\n",
       "</div>"
      ],
      "text/plain": [
       "   Unnamed: 0  sex  age  education  currentSmoker  cigsPerDay  BPMeds  \\\n",
       "0         674    0   58        1.0              1        20.0     0.0   \n",
       "1        4070    0   51        3.0              0         0.0     0.0   \n",
       "2        3150    0   44        2.0              1         9.0     0.0   \n",
       "3        1695    0   40        2.0              1        20.0     0.0   \n",
       "4        2692    1   58        2.0              1        20.0     0.0   \n",
       "\n",
       "   prevalentStroke  prevalentHyp  diabetes  totChol  sysBP  diaBP    BMI  \\\n",
       "0                0             0         0      NaN  126.0   77.0  30.08   \n",
       "1                0             0         0    264.0  135.0   83.0  26.68   \n",
       "2                0             1         0      NaN  147.5   96.0  30.57   \n",
       "3                0             0         0    271.0  138.5   88.0  27.24   \n",
       "4                0             0         0    207.0  110.0   80.0  23.55   \n",
       "\n",
       "   heartRate  glucose  TenYearCHD  \n",
       "0       78.0      NaN           0  \n",
       "1       60.0     74.0           0  \n",
       "2       78.0      NaN           1  \n",
       "3       80.0      NaN           1  \n",
       "4       78.0     78.0           0  "
      ]
     },
     "execution_count": 16,
     "metadata": {},
     "output_type": "execute_result"
    }
   ],
   "source": [
    "test_data = pd.read_csv(\"./fhs_test.csv\")\n",
    "test_data.head()\n"
   ]
  },
  {
   "cell_type": "code",
   "execution_count": 17,
   "metadata": {},
   "outputs": [
    {
     "data": {
      "text/html": [
       "<div>\n",
       "<style scoped>\n",
       "    .dataframe tbody tr th:only-of-type {\n",
       "        vertical-align: middle;\n",
       "    }\n",
       "\n",
       "    .dataframe tbody tr th {\n",
       "        vertical-align: top;\n",
       "    }\n",
       "\n",
       "    .dataframe thead th {\n",
       "        text-align: right;\n",
       "    }\n",
       "</style>\n",
       "<table border=\"1\" class=\"dataframe\">\n",
       "  <thead>\n",
       "    <tr style=\"text-align: right;\">\n",
       "      <th></th>\n",
       "      <th>Unnamed: 0</th>\n",
       "      <th>sex</th>\n",
       "      <th>age</th>\n",
       "      <th>education</th>\n",
       "      <th>currentSmoker</th>\n",
       "      <th>cigsPerDay</th>\n",
       "      <th>BPMeds</th>\n",
       "      <th>prevalentStroke</th>\n",
       "      <th>prevalentHyp</th>\n",
       "      <th>diabetes</th>\n",
       "      <th>totChol</th>\n",
       "      <th>sysBP</th>\n",
       "      <th>diaBP</th>\n",
       "      <th>BMI</th>\n",
       "      <th>heartRate</th>\n",
       "      <th>glucose</th>\n",
       "      <th>TenYearCHD</th>\n",
       "    </tr>\n",
       "  </thead>\n",
       "  <tbody>\n",
       "    <tr>\n",
       "      <th>count</th>\n",
       "      <td>1060.000000</td>\n",
       "      <td>1060.000000</td>\n",
       "      <td>1060.000000</td>\n",
       "      <td>1040.000000</td>\n",
       "      <td>1060.000000</td>\n",
       "      <td>1055.000000</td>\n",
       "      <td>1044.000000</td>\n",
       "      <td>1060.000000</td>\n",
       "      <td>1060.000000</td>\n",
       "      <td>1060.000000</td>\n",
       "      <td>1049.000000</td>\n",
       "      <td>1060.000000</td>\n",
       "      <td>1060.000000</td>\n",
       "      <td>1056.000000</td>\n",
       "      <td>1059.000000</td>\n",
       "      <td>957.000000</td>\n",
       "      <td>1060.000000</td>\n",
       "    </tr>\n",
       "    <tr>\n",
       "      <th>mean</th>\n",
       "      <td>2092.777358</td>\n",
       "      <td>0.417925</td>\n",
       "      <td>49.418868</td>\n",
       "      <td>2.046154</td>\n",
       "      <td>0.503774</td>\n",
       "      <td>9.111848</td>\n",
       "      <td>0.029693</td>\n",
       "      <td>0.003774</td>\n",
       "      <td>0.279245</td>\n",
       "      <td>0.024528</td>\n",
       "      <td>236.995234</td>\n",
       "      <td>131.064151</td>\n",
       "      <td>82.237736</td>\n",
       "      <td>25.539100</td>\n",
       "      <td>75.689330</td>\n",
       "      <td>82.357367</td>\n",
       "      <td>0.148113</td>\n",
       "    </tr>\n",
       "    <tr>\n",
       "      <th>std</th>\n",
       "      <td>1201.024284</td>\n",
       "      <td>0.493450</td>\n",
       "      <td>8.620858</td>\n",
       "      <td>1.042774</td>\n",
       "      <td>0.500222</td>\n",
       "      <td>11.650215</td>\n",
       "      <td>0.169822</td>\n",
       "      <td>0.061342</td>\n",
       "      <td>0.448840</td>\n",
       "      <td>0.154755</td>\n",
       "      <td>43.835233</td>\n",
       "      <td>20.743991</td>\n",
       "      <td>11.589415</td>\n",
       "      <td>3.914418</td>\n",
       "      <td>11.953153</td>\n",
       "      <td>24.931659</td>\n",
       "      <td>0.355380</td>\n",
       "    </tr>\n",
       "    <tr>\n",
       "      <th>min</th>\n",
       "      <td>4.000000</td>\n",
       "      <td>0.000000</td>\n",
       "      <td>34.000000</td>\n",
       "      <td>1.000000</td>\n",
       "      <td>0.000000</td>\n",
       "      <td>0.000000</td>\n",
       "      <td>0.000000</td>\n",
       "      <td>0.000000</td>\n",
       "      <td>0.000000</td>\n",
       "      <td>0.000000</td>\n",
       "      <td>124.000000</td>\n",
       "      <td>92.500000</td>\n",
       "      <td>48.000000</td>\n",
       "      <td>15.960000</td>\n",
       "      <td>45.000000</td>\n",
       "      <td>44.000000</td>\n",
       "      <td>0.000000</td>\n",
       "    </tr>\n",
       "    <tr>\n",
       "      <th>25%</th>\n",
       "      <td>1054.500000</td>\n",
       "      <td>0.000000</td>\n",
       "      <td>42.000000</td>\n",
       "      <td>1.000000</td>\n",
       "      <td>0.000000</td>\n",
       "      <td>0.000000</td>\n",
       "      <td>0.000000</td>\n",
       "      <td>0.000000</td>\n",
       "      <td>0.000000</td>\n",
       "      <td>0.000000</td>\n",
       "      <td>206.000000</td>\n",
       "      <td>117.000000</td>\n",
       "      <td>74.000000</td>\n",
       "      <td>22.850000</td>\n",
       "      <td>68.000000</td>\n",
       "      <td>72.000000</td>\n",
       "      <td>0.000000</td>\n",
       "    </tr>\n",
       "    <tr>\n",
       "      <th>50%</th>\n",
       "      <td>2074.500000</td>\n",
       "      <td>0.000000</td>\n",
       "      <td>49.000000</td>\n",
       "      <td>2.000000</td>\n",
       "      <td>1.000000</td>\n",
       "      <td>1.000000</td>\n",
       "      <td>0.000000</td>\n",
       "      <td>0.000000</td>\n",
       "      <td>0.000000</td>\n",
       "      <td>0.000000</td>\n",
       "      <td>235.000000</td>\n",
       "      <td>127.000000</td>\n",
       "      <td>81.000000</td>\n",
       "      <td>25.140000</td>\n",
       "      <td>75.000000</td>\n",
       "      <td>78.000000</td>\n",
       "      <td>0.000000</td>\n",
       "    </tr>\n",
       "    <tr>\n",
       "      <th>75%</th>\n",
       "      <td>3093.500000</td>\n",
       "      <td>1.000000</td>\n",
       "      <td>56.000000</td>\n",
       "      <td>3.000000</td>\n",
       "      <td>1.000000</td>\n",
       "      <td>20.000000</td>\n",
       "      <td>0.000000</td>\n",
       "      <td>0.000000</td>\n",
       "      <td>1.000000</td>\n",
       "      <td>0.000000</td>\n",
       "      <td>265.000000</td>\n",
       "      <td>140.125000</td>\n",
       "      <td>88.000000</td>\n",
       "      <td>27.860000</td>\n",
       "      <td>82.000000</td>\n",
       "      <td>87.000000</td>\n",
       "      <td>0.000000</td>\n",
       "    </tr>\n",
       "    <tr>\n",
       "      <th>max</th>\n",
       "      <td>4235.000000</td>\n",
       "      <td>1.000000</td>\n",
       "      <td>69.000000</td>\n",
       "      <td>4.000000</td>\n",
       "      <td>1.000000</td>\n",
       "      <td>60.000000</td>\n",
       "      <td>1.000000</td>\n",
       "      <td>1.000000</td>\n",
       "      <td>1.000000</td>\n",
       "      <td>1.000000</td>\n",
       "      <td>453.000000</td>\n",
       "      <td>215.000000</td>\n",
       "      <td>140.000000</td>\n",
       "      <td>45.790000</td>\n",
       "      <td>143.000000</td>\n",
       "      <td>394.000000</td>\n",
       "      <td>1.000000</td>\n",
       "    </tr>\n",
       "  </tbody>\n",
       "</table>\n",
       "</div>"
      ],
      "text/plain": [
       "        Unnamed: 0          sex          age    education  currentSmoker  \\\n",
       "count  1060.000000  1060.000000  1060.000000  1040.000000    1060.000000   \n",
       "mean   2092.777358     0.417925    49.418868     2.046154       0.503774   \n",
       "std    1201.024284     0.493450     8.620858     1.042774       0.500222   \n",
       "min       4.000000     0.000000    34.000000     1.000000       0.000000   \n",
       "25%    1054.500000     0.000000    42.000000     1.000000       0.000000   \n",
       "50%    2074.500000     0.000000    49.000000     2.000000       1.000000   \n",
       "75%    3093.500000     1.000000    56.000000     3.000000       1.000000   \n",
       "max    4235.000000     1.000000    69.000000     4.000000       1.000000   \n",
       "\n",
       "        cigsPerDay       BPMeds  prevalentStroke  prevalentHyp     diabetes  \\\n",
       "count  1055.000000  1044.000000      1060.000000   1060.000000  1060.000000   \n",
       "mean      9.111848     0.029693         0.003774      0.279245     0.024528   \n",
       "std      11.650215     0.169822         0.061342      0.448840     0.154755   \n",
       "min       0.000000     0.000000         0.000000      0.000000     0.000000   \n",
       "25%       0.000000     0.000000         0.000000      0.000000     0.000000   \n",
       "50%       1.000000     0.000000         0.000000      0.000000     0.000000   \n",
       "75%      20.000000     0.000000         0.000000      1.000000     0.000000   \n",
       "max      60.000000     1.000000         1.000000      1.000000     1.000000   \n",
       "\n",
       "           totChol        sysBP        diaBP          BMI    heartRate  \\\n",
       "count  1049.000000  1060.000000  1060.000000  1056.000000  1059.000000   \n",
       "mean    236.995234   131.064151    82.237736    25.539100    75.689330   \n",
       "std      43.835233    20.743991    11.589415     3.914418    11.953153   \n",
       "min     124.000000    92.500000    48.000000    15.960000    45.000000   \n",
       "25%     206.000000   117.000000    74.000000    22.850000    68.000000   \n",
       "50%     235.000000   127.000000    81.000000    25.140000    75.000000   \n",
       "75%     265.000000   140.125000    88.000000    27.860000    82.000000   \n",
       "max     453.000000   215.000000   140.000000    45.790000   143.000000   \n",
       "\n",
       "          glucose   TenYearCHD  \n",
       "count  957.000000  1060.000000  \n",
       "mean    82.357367     0.148113  \n",
       "std     24.931659     0.355380  \n",
       "min     44.000000     0.000000  \n",
       "25%     72.000000     0.000000  \n",
       "50%     78.000000     0.000000  \n",
       "75%     87.000000     0.000000  \n",
       "max    394.000000     1.000000  "
      ]
     },
     "execution_count": 17,
     "metadata": {},
     "output_type": "execute_result"
    }
   ],
   "source": [
    "test_data.describe()"
   ]
  },
  {
   "cell_type": "markdown",
   "metadata": {},
   "source": [
    "There seems to be an unused column \"Unnamed: 0\", let's remove that first."
   ]
  },
  {
   "cell_type": "code",
   "execution_count": 18,
   "metadata": {},
   "outputs": [
    {
     "data": {
      "text/plain": [
       "sex                  0\n",
       "age                  0\n",
       "education           20\n",
       "currentSmoker        0\n",
       "cigsPerDay           5\n",
       "BPMeds              16\n",
       "prevalentStroke      0\n",
       "prevalentHyp         0\n",
       "diabetes             0\n",
       "totChol             11\n",
       "sysBP                0\n",
       "diaBP                0\n",
       "BMI                  4\n",
       "heartRate            1\n",
       "glucose            103\n",
       "TenYearCHD           0\n",
       "dtype: int64"
      ]
     },
     "execution_count": 18,
     "metadata": {},
     "output_type": "execute_result"
    }
   ],
   "source": [
    "test_data.drop('Unnamed: 0', axis=1, inplace=True)\n",
    "test_data.isnull().sum()"
   ]
  },
  {
   "cell_type": "markdown",
   "metadata": {},
   "source": [
    "As seen from above, there are some missing values in a handful of variables:\n",
    "\n",
    "- education (20 missing)\n",
    "- cigsPerDay (5 missing)\n",
    "- BPMeds (16 missing)\n",
    "- totChol (11 missing)\n",
    "- BMI (4 missing)\n",
    "- heartRate (1 missing)\n",
    "- glucose (103 missing)\n",
    "\n",
    "Let's observe how to continue and remove or fill in these missing values."
   ]
  },
  {
   "cell_type": "code",
   "execution_count": 19,
   "metadata": {},
   "outputs": [
    {
     "data": {
      "image/png": "[encoded data removed]",
      "text/plain": [
       "<Figure size 1200x800 with 2 Axes>"
      ]
     },
     "metadata": {},
     "output_type": "display_data"
    }
   ],
   "source": [
    "corr = test_data.corr()\n",
    "plt.figure(figsize=(12, 8))\n",
    "sns.heatmap(corr, annot=True, cmap='coolwarm', linewidths=0.5)\n",
    "plt.show()"
   ]
  },
  {
   "cell_type": "markdown",
   "metadata": {},
   "source": [
    "Using the correlation matrix, we can determine how to go about handling the nan values. From the correlation matrix, we see that:\n",
    "\n",
    "*education*: This variable had some missing values. It doesn't have a strong correlation with any other variable, so using the median is an appropriate choice for categorical data.\n",
    "\n",
    "*cigsPerDay*: Also had missing values, but since it's highly correlated with currentSmoker, we will use a more nuanced approach for imputation. For current smokers (currentSmoker == 1), we could impute missing cigsPerDay with the median of cigsPerDay for all current smokers. For non-smokers (currentSmoker == 0), it's reasonable to impute any missing cigsPerDay with 0.\n",
    "\n",
    "*BPMeds*: There were missing values in this variable as well. It has a slight positive correlation with prevalentHyp and sysBP. But, we will use proportional imputation.\n",
    "\n",
    "*totChol*, *BMI*: These variables had missing values, and they show some correlations with other variables like age, sysBP, diaBP, etc. For these continuous variables, we could use multiple imputation techniques or predict missing values based on a regression model that includes correlated predictors. However, since these correlations are not very strong, the median imputation we initially used is a robust and straightforward approach.\n",
    "\n",
    "*glucose*: Also had missing values, but since it's highly correlated with diabetes, we will use a more nuanced approach for imputation. For glucose == 1, we could impute missing glucose with the mean of diabetics. For non-glucose (glucose == 0), it's reasonable to impute any missing glucose with mean of non-diabetics.\n",
    "\n",
    "*heartrate*: Only one missing value, we can simply remove this row as it should not have a great impact on the output"
   ]
  },
  {
   "cell_type": "code",
   "execution_count": 20,
   "metadata": {},
   "outputs": [
    {
     "data": {
      "text/plain": [
       "sex                  0\n",
       "age                  0\n",
       "education           20\n",
       "currentSmoker        0\n",
       "cigsPerDay           0\n",
       "BPMeds              16\n",
       "prevalentStroke      0\n",
       "prevalentHyp         0\n",
       "diabetes             0\n",
       "totChol             11\n",
       "sysBP                0\n",
       "diaBP                0\n",
       "BMI                  4\n",
       "heartRate            1\n",
       "glucose            103\n",
       "TenYearCHD           0\n",
       "dtype: int64"
      ]
     },
     "execution_count": 20,
     "metadata": {},
     "output_type": "execute_result"
    }
   ],
   "source": [
    "median_cigs_smokers = test_data[test_data['currentSmoker'] == 1]['cigsPerDay'].median()\n",
    "\n",
    "# Impute missing cigsPerDay values for current smokers with the median and for non-smokers with 0\n",
    "test_data.loc[(test_data['currentSmoker'] == 1) & (test_data['cigsPerDay'].isnull()), 'cigsPerDay'] = median_cigs_smokers\n",
    "test_data.loc[(test_data['currentSmoker'] == 0) & (test_data['cigsPerDay'].isnull()), 'cigsPerDay'] = 0\n",
    "\n",
    "# Verify the imputation\n",
    "test_data.isnull().sum()"
   ]
  },
  {
   "cell_type": "code",
   "execution_count": 21,
   "metadata": {},
   "outputs": [
    {
     "data": {
      "text/plain": [
       "sex                  0\n",
       "age                  0\n",
       "education            0\n",
       "currentSmoker        0\n",
       "cigsPerDay           0\n",
       "BPMeds              16\n",
       "prevalentStroke      0\n",
       "prevalentHyp         0\n",
       "diabetes             0\n",
       "totChol             11\n",
       "sysBP                0\n",
       "diaBP                0\n",
       "BMI                  4\n",
       "heartRate            1\n",
       "glucose            103\n",
       "TenYearCHD           0\n",
       "dtype: int64"
      ]
     },
     "execution_count": 21,
     "metadata": {},
     "output_type": "execute_result"
    }
   ],
   "source": [
    "education_test = test_data['education'].median()\n",
    "\n",
    "#Fill with median\n",
    "test_data['education'].fillna(education_test, inplace=True)\n",
    "\n",
    "#Verify\n",
    "test_data.isnull().sum()"
   ]
  },
  {
   "cell_type": "code",
   "execution_count": 22,
   "metadata": {},
   "outputs": [
    {
     "data": {
      "text/plain": [
       "sex                  0\n",
       "age                  0\n",
       "education            0\n",
       "currentSmoker        0\n",
       "cigsPerDay           0\n",
       "BPMeds              16\n",
       "prevalentStroke      0\n",
       "prevalentHyp         0\n",
       "diabetes             0\n",
       "totChol              0\n",
       "sysBP                0\n",
       "diaBP                0\n",
       "BMI                  4\n",
       "heartRate            1\n",
       "glucose            103\n",
       "TenYearCHD           0\n",
       "dtype: int64"
      ]
     },
     "execution_count": 22,
     "metadata": {},
     "output_type": "execute_result"
    }
   ],
   "source": [
    "totChol_test = test_data['totChol'].median()\n",
    "\n",
    "#Fill with median\n",
    "test_data['totChol'].fillna(totChol_test, inplace=True)\n",
    "\n",
    "#Verify\n",
    "test_data.isnull().sum()"
   ]
  },
  {
   "cell_type": "code",
   "execution_count": 23,
   "metadata": {},
   "outputs": [
    {
     "data": {
      "text/plain": [
       "sex                  0\n",
       "age                  0\n",
       "education            0\n",
       "currentSmoker        0\n",
       "cigsPerDay           0\n",
       "BPMeds              16\n",
       "prevalentStroke      0\n",
       "prevalentHyp         0\n",
       "diabetes             0\n",
       "totChol              0\n",
       "sysBP                0\n",
       "diaBP                0\n",
       "BMI                  0\n",
       "heartRate            1\n",
       "glucose            103\n",
       "TenYearCHD           0\n",
       "dtype: int64"
      ]
     },
     "execution_count": 23,
     "metadata": {},
     "output_type": "execute_result"
    }
   ],
   "source": [
    "bmi_test = test_data['BMI'].median()\n",
    "\n",
    "#Fill with median\n",
    "test_data['BMI'].fillna(bmi_test, inplace=True)\n",
    "\n",
    "#Verify\n",
    "test_data.isnull().sum()"
   ]
  },
  {
   "cell_type": "code",
   "execution_count": 24,
   "metadata": {},
   "outputs": [
    {
     "data": {
      "text/plain": [
       "sex                 0\n",
       "age                 0\n",
       "education           0\n",
       "currentSmoker       0\n",
       "cigsPerDay          0\n",
       "BPMeds             16\n",
       "prevalentStroke     0\n",
       "prevalentHyp        0\n",
       "diabetes            0\n",
       "totChol             0\n",
       "sysBP               0\n",
       "diaBP               0\n",
       "BMI                 0\n",
       "heartRate           1\n",
       "glucose             0\n",
       "TenYearCHD          0\n",
       "dtype: int64"
      ]
     },
     "execution_count": 24,
     "metadata": {},
     "output_type": "execute_result"
    }
   ],
   "source": [
    "# Calculate the mean glucose level for diabetic patients\n",
    "mean_glucose_diabetic = test_data[test_data['diabetes'] == 1]['glucose'].mean()\n",
    "\n",
    "# Calculate the mean glucose level for non-diabetic patients\n",
    "mean_glucose_non_diabetic = test_data[test_data['diabetes'] == 0]['glucose'].mean()\n",
    "\n",
    "# Function to apply the imputation logic\n",
    "def impute_glucose(row):\n",
    "    if pd.isnull(row['glucose']):\n",
    "        return mean_glucose_diabetic if row['diabetes'] == 1 else mean_glucose_non_diabetic\n",
    "    else:\n",
    "        return row['glucose']\n",
    "\n",
    "# Apply the function to the glucose column\n",
    "test_data['glucose'] = test_data.apply(impute_glucose, axis=1)\n",
    "\n",
    "#Verify\n",
    "test_data.isnull().sum()"
   ]
  },
  {
   "cell_type": "code",
   "execution_count": 25,
   "metadata": {},
   "outputs": [
    {
     "data": {
      "text/plain": [
       "0.029693486590038315"
      ]
     },
     "execution_count": 25,
     "metadata": {},
     "output_type": "execute_result"
    }
   ],
   "source": [
    "# Calculate the proportion of '1's in the BPMeds column of the original training data\n",
    "bpmeds_proportion = test_data['BPMeds'].mean()\n",
    "\n",
    "bpmeds_proportion"
   ]
  },
  {
   "cell_type": "markdown",
   "metadata": {},
   "source": [
    "The proportion of 1's seems to be about 3% in the test data"
   ]
  },
  {
   "cell_type": "code",
   "execution_count": 26,
   "metadata": {},
   "outputs": [
    {
     "data": {
      "text/plain": [
       "array([0., 0., 0., 0., 0., 0., 0., 0., 0., 0., 0., 0., 0., 0., 0., 0.])"
      ]
     },
     "execution_count": 26,
     "metadata": {},
     "output_type": "execute_result"
    }
   ],
   "source": [
    "# Calculate how many of the missing values should be assigned a '1' based on the proportion\n",
    "num_ones_to_assign = int(np.round(bpmeds_proportion * 16))\n",
    "\n",
    "# Create an array of zeros for imputation\n",
    "imputed_bpmeds = np.zeros(16)\n",
    "\n",
    "# Assign '1's based on the calculated number\n",
    "imputed_bpmeds[:num_ones_to_assign] = 1\n",
    "\n",
    "imputed_bpmeds"
   ]
  },
  {
   "cell_type": "markdown",
   "metadata": {},
   "source": [
    "So, we will assign 0 NA value to 1 and the rest to be 0"
   ]
  },
  {
   "cell_type": "code",
   "execution_count": 27,
   "metadata": {},
   "outputs": [
    {
     "data": {
      "text/plain": [
       "sex                0\n",
       "age                0\n",
       "education          0\n",
       "currentSmoker      0\n",
       "cigsPerDay         0\n",
       "BPMeds             0\n",
       "prevalentStroke    0\n",
       "prevalentHyp       0\n",
       "diabetes           0\n",
       "totChol            0\n",
       "sysBP              0\n",
       "diaBP              0\n",
       "BMI                0\n",
       "heartRate          1\n",
       "glucose            0\n",
       "TenYearCHD         0\n",
       "dtype: int64"
      ]
     },
     "execution_count": 27,
     "metadata": {},
     "output_type": "execute_result"
    }
   ],
   "source": [
    "# Shuffle the array to randomly distribute the '1's\n",
    "np.random.shuffle(imputed_bpmeds)\n",
    "\n",
    "# Assign the imputed values back to the original dataframe (only for the missing values)\n",
    "test_data.loc[test_data['BPMeds'].isnull(), 'BPMeds'] = imputed_bpmeds\n",
    "\n",
    "#Verify\n",
    "test_data.isnull().sum()"
   ]
  },
  {
   "cell_type": "code",
   "execution_count": 28,
   "metadata": {},
   "outputs": [
    {
     "data": {
      "text/plain": [
       "sex                0\n",
       "age                0\n",
       "education          0\n",
       "currentSmoker      0\n",
       "cigsPerDay         0\n",
       "BPMeds             0\n",
       "prevalentStroke    0\n",
       "prevalentHyp       0\n",
       "diabetes           0\n",
       "totChol            0\n",
       "sysBP              0\n",
       "diaBP              0\n",
       "BMI                0\n",
       "heartRate          0\n",
       "glucose            0\n",
       "TenYearCHD         0\n",
       "dtype: int64"
      ]
     },
     "execution_count": 28,
     "metadata": {},
     "output_type": "execute_result"
    }
   ],
   "source": [
    "test_data.dropna(subset = ['heartRate'], inplace=True)\n",
    "test_data.isnull().sum()"
   ]
  },
  {
   "cell_type": "markdown",
   "metadata": {},
   "source": [
    "There are no more null values that need to be dealt with"
   ]
  },
  {
   "cell_type": "code",
   "execution_count": 29,
   "metadata": {},
   "outputs": [],
   "source": [
    "test_data.to_csv(\"test_cleaned.csv\",index=False)"
   ]
  },
  {
   "cell_type": "markdown",
   "metadata": {},
   "source": [
    "# EDA"
   ]
  },
  {
   "cell_type": "code",
   "execution_count": 30,
   "metadata": {},
   "outputs": [
    {
     "name": "stdout",
     "output_type": "stream",
     "text": [
      "TenYearCHD         1.000000\n",
      "age                0.225568\n",
      "sysBP              0.205898\n",
      "prevalentHyp       0.163910\n",
      "diaBP              0.133094\n",
      "glucose            0.124403\n",
      "diabetes           0.105644\n",
      "totChol            0.099083\n",
      "sex                0.097138\n",
      "BPMeds             0.085606\n",
      "BMI                0.071823\n",
      "prevalentStroke    0.062357\n",
      "cigsPerDay         0.046104\n",
      "heartRate          0.023205\n",
      "currentSmoker      0.001644\n",
      "education         -0.052207\n",
      "Name: TenYearCHD, dtype: float64\n"
     ]
    }
   ],
   "source": [
    "import numpy as np\n",
    "import pandas as pd\n",
    "import matplotlib.pyplot as plt\n",
    "import seaborn as sns\n",
    "\n",
    "train_data = pd.read_csv(\"./train_cleaned.csv\")\n",
    "test_data = pd.read_csv(\"./test_cleaned.csv\")\n",
    "corr_matrix = train_data.corr()\n",
    "print(corr_matrix[\"TenYearCHD\"].sort_values(ascending = False))"
   ]
  },
  {
   "cell_type": "code",
   "execution_count": 31,
   "metadata": {},
   "outputs": [],
   "source": [
    "# Split data in half so boxplots are easier to see\n",
    "df_bp = train_data.loc[:, ['age', 'cigsPerDay', 'totChol', 'sysBP', 'diaBP', 'BMI', 'heartRate', 'glucose']]\n"
   ]
  },
  {
   "cell_type": "code",
   "execution_count": 32,
   "metadata": {},
   "outputs": [
    {
     "data": {
      "text/plain": [
       "<Axes: >"
      ]
     },
     "execution_count": 32,
     "metadata": {},
     "output_type": "execute_result"
    },
    {
     "data": {
      "image/png": "[encoded data removed]",
      "text/plain": [
       "<Figure size 640x480 with 1 Axes>"
      ]
     },
     "metadata": {},
     "output_type": "display_data"
    }
   ],
   "source": [
    "sns.boxplot(data=df_bp)"
   ]
  },
  {
   "cell_type": "markdown",
   "metadata": {},
   "source": [
    "Based on the boxplots, we see some badly scaled variables:\n",
    "\n",
    "- **totChol** and **glucose**: These variables show a significantly wider range and larger values - compared to others, indicating they are on a different scale.\n",
    "- **sysBP** and **diaBP**: Systolic and diastolic blood pressures also appear to have a larger range, although not as pronounced as totChol and glucose.\n",
    "- **age, cigsPerDay, BMI**, and **heartRate**: These variables have a much narrower range and smaller values, hence they are scaled differently compared to totChol and glucose.\n",
    "\n",
    "Candidates for log transformation:\n",
    "- **totChol**: Since this variable has a long tail with extreme values, it might benefit from a log transformation to compress the scale and normalize the distribution.\n",
    "- **glucose**: Similar to totChol, it has a positive skew with some extreme values that could be normalized with a log transformation.\n",
    "- **sysBP**: Though not as extreme as totChol and glucose, it has a positive skew.\n"
   ]
  },
  {
   "cell_type": "code",
   "execution_count": 33,
   "metadata": {},
   "outputs": [
    {
     "data": {
      "text/plain": [
       "<Axes: >"
      ]
     },
     "execution_count": 33,
     "metadata": {},
     "output_type": "execute_result"
    },
    {
     "data": {
      "image/png": "[encoded data removed]",
      "text/plain": [
       "<Figure size 640x480 with 1 Axes>"
      ]
     },
     "metadata": {},
     "output_type": "display_data"
    }
   ],
   "source": [
    "train_data['totChol_log'] = np.log(train_data['totChol'])\n",
    "train_data['glucose_log'] = np.log(train_data['glucose'])\n",
    "train_data['sysBP_log'] = np.log(train_data['sysBP'])\n",
    "train_data['BMI_log'] = np.log(train_data['BMI'])\n",
    "train_data['diaBP_log'] = np.log(train_data['diaBP'])\n",
    "train_data['heartRate_log'] = np.log(train_data['heartRate'])\n",
    "\n",
    "test_data['totChol_log'] = np.log(test_data['totChol'])\n",
    "test_data['glucose_log'] = np.log(test_data['glucose'])\n",
    "test_data['sysBP_log'] = np.log(test_data['sysBP'])\n",
    "test_data['BMI_log'] = np.log(test_data['BMI'])\n",
    "test_data['diaBP_log'] = np.log(test_data['diaBP'])\n",
    "test_data['heartRate_log'] = np.log(test_data['heartRate'])\n",
    "\n",
    "# train_data = train_data.drop(['totChol', 'glucose', 'sysBP', 'BMI', 'diaBP', 'heartRate'], axis=1)\n",
    "sns.boxplot(data=train_data.loc[:, ['age', 'cigsPerDay', 'totChol_log', 'sysBP_log', 'diaBP_log', 'BMI_log', 'heartRate_log', 'glucose_log']])\n",
    "\n"
   ]
  },
  {
   "cell_type": "code",
   "execution_count": 35,
   "metadata": {},
   "outputs": [
    {
     "name": "stdout",
     "output_type": "stream",
     "text": [
      "      count      mean       std  min  25%  50%  75%  max\n",
      "sex                                                     \n",
      "0    1803.0  0.122573  0.328038  0.0  0.0  0.0  0.0  1.0\n",
      "1    1377.0  0.193174  0.394931  0.0  0.0  0.0  0.0  1.0\n",
      "                count      mean       std  min  25%  50%  75%  max\n",
      "currentSmoker                                                     \n",
      "0              1619.0  0.152563  0.359677  0.0  0.0  0.0  0.0  1.0\n",
      "1              1561.0  0.153748  0.360822  0.0  0.0  0.0  0.0  1.0\n",
      "            count      mean       std  min  25%  50%  75%  max\n",
      "education                                                     \n",
      "1.0        1310.0  0.190076  0.392511  0.0  0.0  0.0  0.0  1.0\n",
      "2.0        1034.0  0.115087  0.319281  0.0  0.0  0.0  0.0  1.0\n",
      "3.0         495.0  0.139394  0.346708  0.0  0.0  0.0  0.0  1.0\n",
      "4.0         341.0  0.146628  0.354254  0.0  0.0  0.0  0.0  1.0\n",
      "                  count      mean       std  min  25%  50%  75%  max\n",
      "prevalentStroke                                                     \n",
      "0                3159.0  0.151314  0.358411  0.0  0.0  0.0  0.0  1.0\n",
      "1                  21.0  0.428571  0.507093  0.0  0.0  0.0  1.0  1.0\n",
      "               count      mean       std  min  25%  50%  75%  max\n",
      "prevalentHyp                                                     \n",
      "0             2159.0  0.112552  0.316118  0.0  0.0  0.0  0.0  1.0\n",
      "1             1021.0  0.238981  0.426670  0.0  0.0  0.0  0.0  1.0\n",
      "           count      mean       std  min  25%  50%  75%  max\n",
      "diabetes                                                     \n",
      "0         3097.0  0.146916  0.354080  0.0  0.0  0.0  0.0  1.0\n",
      "1           83.0  0.385542  0.489682  0.0  0.0  0.0  1.0  1.0\n",
      "         count      mean       std  min  25%  50%  75%  max\n",
      "BPMeds                                                     \n",
      "0.0     3086.0  0.147764  0.354923  0.0  0.0  0.0  0.0  1.0\n",
      "1.0       94.0  0.329787  0.472657  0.0  0.0  0.0  1.0  1.0\n"
     ]
    }
   ],
   "source": [
    "cat_columns = ['sex', 'currentSmoker', 'education', 'prevalentStroke', 'prevalentHyp', 'diabetes', 'BPMeds']\n",
    "for c in cat_columns:\n",
    "  print(train_data['TenYearCHD'].groupby(train_data[c]).describe())"
   ]
  },
  {
   "cell_type": "markdown",
   "metadata": {},
   "source": [
    "> By looking at a summary table of TenYearCHD grouped by categorical variables, we see that there is a slight difference in the mean of women who have TenYearCHD than men (0.122 vs. 0.193). There doesn't seem to be a difference in average TenYearCHD for current vs. non-smoker, which is surprising considering general perspectives on heart health. In education, there is some variation in the averages of TenYearCHD. An education of \"some high school\" warrants the highest mean of 0.19 for that group, while \"college\" is second with a mean of 0.1466. For the proportion of the population that has prevalent strokes, the TenYearCHD average is almost 0.43, which is much higher than the population that's free of disease (0.15 average). The difference in averages persists with the prevalent hypertensive population, with an average TenYearCHD more than double those without prevalent hypertension (0.24 vs 0.112). Diabetes seems to be a strong indicator of TenYearCHD, with a 162% increase in the frequency of TenYearCHD for those with diabetes versus those without. Similarly, BPMeds is also a strong indicator with a 131% increase in the frequency of TenYearCHD."
   ]
  },
  {
   "cell_type": "markdown",
   "metadata": {},
   "source": [
    "# **Results**"
   ]
  },
  {
   "cell_type": "markdown",
   "metadata": {},
   "source": [
    "### KNN"
   ]
  },
  {
   "cell_type": "code",
   "execution_count": 465,
   "metadata": {},
   "outputs": [],
   "source": [
    "from sklearn.neighbors import KNeighborsRegressor, KNeighborsClassifier\n",
    "from sklearn import metrics "
   ]
  },
  {
   "cell_type": "code",
   "execution_count": 466,
   "metadata": {},
   "outputs": [],
   "source": [
    "#Define the maxmin method to transform col to a range from 0 to 1\n",
    "def maxmin(x):\n",
    "    u = (x-min(x))/(max(x)-min(x))\n",
    "    return u"
   ]
  },
  {
   "cell_type": "code",
   "execution_count": 467,
   "metadata": {},
   "outputs": [],
   "source": [
    "# Columns of interest\n",
    "vars = ['age', 'cigsPerDay', 'sysBP', 'prevalentHyp', 'diaBP', 'glucose']\n",
    "\n",
    "# Extract the columns of interest from the training data\n",
    "X_train = train_data.loc[:, vars]\n",
    "Y_train = train_data.loc[:, \"TenYearCHD\"]\n",
    "\n",
    "# Apply maxmin scaling to each column in X_train\n",
    "X_train = X_train.apply(maxmin)\n",
    "\n",
    "# Extract the columns of interest from the testing data\n",
    "X_test = test_data.loc[:, vars]\n",
    "Y_test = test_data.loc[:, \"TenYearCHD\"]\n",
    "\n",
    "# Apply maxmin scaling to each column in X_test\n",
    "X_test = X_test.apply(maxmin)"
   ]
  },
  {
   "cell_type": "code",
   "execution_count": 468,
   "metadata": {},
   "outputs": [
    {
     "data": {
      "image/png": "[encoded data removed]",
      "text/plain": [
       "<Figure size 640x480 with 1 Axes>"
      ]
     },
     "metadata": {},
     "output_type": "display_data"
    }
   ],
   "source": [
    "# Search for the optimal k\n",
    "k_bar = 200\n",
    "k_grid = np.arange(1,k_bar) \n",
    "SSE = np.zeros(k_bar) \n",
    "\n",
    "for k in range(k_bar):\n",
    "    fitted_model = KNeighborsRegressor(n_neighbors=k+1).fit(X_train,Y_train) \n",
    "    y_hat = fitted_model.predict(X_test) \n",
    "    SSE[k] = np.sum( (Y_test-y_hat)**2 ) \n",
    " \n",
    "SSE_min = np.min(SSE) \n",
    "min_index = np.where(SSE==SSE_min) \n",
    "k_star = k_grid[min_index] \n",
    "\n",
    "plt.plot(np.arange(0,k_bar),SSE) \n",
    "plt.xlabel(\"k\")\n",
    "plt.title(f\"optimal k:{k_star}\")\n",
    "plt.ylabel('SSE')\n",
    "plt.show()"
   ]
  },
  {
   "cell_type": "code",
   "execution_count": 469,
   "metadata": {},
   "outputs": [
    {
     "name": "stdout",
     "output_type": "stream",
     "text": [
      "0.08805858479844553\n"
     ]
    }
   ],
   "source": [
    "# Setup KNN with optimal k\n",
    "knn = KNeighborsRegressor(n_neighbors = 133)\n",
    "knn.fit(X_train, Y_train)\n",
    "y_hat = knn.predict(X_test)\n",
    "r2 = metrics.r2_score(Y_test, y_hat)\n",
    "\n",
    "print(r2)"
   ]
  },
  {
   "cell_type": "markdown",
   "metadata": {},
   "source": [
    "### Decision Tree"
   ]
  },
  {
   "cell_type": "code",
   "execution_count": 470,
   "metadata": {},
   "outputs": [
    {
     "data": {
      "image/png": "[encoded data removed]",
      "text/plain": [
       "<Figure size 640x480 with 1 Axes>"
      ]
     },
     "metadata": {},
     "output_type": "display_data"
    }
   ],
   "source": [
    "from sklearn import tree\n",
    "from sklearn import metrics \n",
    "\n",
    "vars = ['age', 'sex', 'prevalentHyp', 'diaBP', 'glucose', 'diabetes', 'sysBP']\n",
    "\n",
    "X_train = train_data.loc[:, vars]\n",
    "Y_train = train_data.loc[:, \"TenYearCHD\"]\n",
    "\n",
    "cart = tree.DecisionTreeRegressor(max_depth=4)\n",
    "cart.fit(X_train, Y_train)\n",
    "tree.plot_tree(cart,filled=True,feature_names=vars) \n",
    "plt.show()"
   ]
  },
  {
   "cell_type": "code",
   "execution_count": 471,
   "metadata": {},
   "outputs": [
    {
     "data": {
      "image/png": "[encoded data removed]",
      "text/plain": [
       "<Figure size 640x480 with 1 Axes>"
      ]
     },
     "metadata": {},
     "output_type": "display_data"
    },
    {
     "name": "stdout",
     "output_type": "stream",
     "text": [
      "Rsq:  0.0764710218018847 \n",
      "\n",
      "RMSE:  0.3406389824542868 \n",
      "\n",
      "R^2:  0.07622061758006637 \n",
      "\n"
     ]
    }
   ],
   "source": [
    "X_test = test_data.loc[:, vars]\n",
    "Y_test = test_data.loc[:, \"TenYearCHD\"]\n",
    "Y_hat = cart.predict(X_test)\n",
    "\n",
    "e = Y_test - Y_hat\n",
    "sns.kdeplot(e)\n",
    "plt.show()\n",
    "rsq = 1 - np.sum(e**2)/np.sum((Y_test - np.mean(Y_train))**2)\n",
    "RMSE = np.sqrt(np.mean(e**2))\n",
    "\n",
    "print('Rsq: ', rsq, '\\n')\n",
    "print('RMSE: ', RMSE, '\\n')\n",
    "\n",
    "r2 = metrics.r2_score(Y_test, Y_hat)\n",
    "print('R^2: ', r2, '\\n')"
   ]
  },
  {
   "cell_type": "markdown",
   "metadata": {},
   "source": [
    "### Linear Model"
   ]
  },
  {
   "cell_type": "code",
   "execution_count": 472,
   "metadata": {},
   "outputs": [
    {
     "name": "stdout",
     "output_type": "stream",
     "text": [
      "0.10073343020200787\n"
     ]
    }
   ],
   "source": [
    "from sklearn.linear_model import LinearRegression\n",
    "\n",
    "vars = ['age', 'cigsPerDay', 'sysBP', 'BMI', 'heartRate', 'glucose', 'prevalentStroke', 'prevalentHyp']\n",
    "X_train = train_data.loc[:, vars]\n",
    "Y_train = train_data.loc[:, \"TenYearCHD\"]\n",
    "X_test = test_data.loc[:, vars]\n",
    "Y_test = test_data.loc[:, \"TenYearCHD\"]\n",
    "\n",
    "model = LinearRegression()\n",
    "lm = model.fit(X_train,Y_train)\n",
    "Y_hat = lm.predict(X_test)\n",
    "linear_rsq = metrics.r2_score(Y_test, Y_hat)\n",
    "print(linear_rsq)"
   ]
  }
 ],
 "metadata": {
  "kernelspec": {
   "display_name": "datascience",
   "language": "python",
   "name": "python3"
  },
  "language_info": {
   "codemirror_mode": {
    "name": "ipython",
    "version": 3
   },
   "file_extension": ".py",
   "mimetype": "text/x-python",
   "name": "python",
   "nbconvert_exporter": "python",
   "pygments_lexer": "ipython3",
   "version": "3.9.18"
  }
 },
 "nbformat": 4,
 "nbformat_minor": 2
}
