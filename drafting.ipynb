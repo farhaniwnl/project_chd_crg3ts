{
 "cells": [
  {
   "cell_type": "code",
   "execution_count": 337,
   "metadata": {},
   "outputs": [],
   "source": [
    "import numpy as np\n",
    "import pandas as pd\n",
    "import seaborn as sns\n",
    "import matplotlib.pyplot as plt\n",
    "from sklearn.ensemble import StackingClassifier\n",
    "from sklearn.linear_model import LinearRegression, LogisticRegression\n",
    "from sklearn.tree import DecisionTreeClassifier, plot_tree, DecisionTreeRegressor\n",
    "from sklearn.metrics import mean_squared_error, r2_score"
   ]
  },
  {
   "cell_type": "markdown",
   "metadata": {},
   "source": [
    "## Drafting EDA"
   ]
  },
  {
   "cell_type": "code",
   "execution_count": 267,
   "metadata": {},
   "outputs": [],
   "source": [
    "# Load the training from CSV files\n",
    "train_data = pd.read_csv(\"./train_cleaned.csv\")"
   ]
  },
  {
   "cell_type": "code",
   "execution_count": 268,
   "metadata": {},
   "outputs": [
    {
     "data": {
      "text/html": [
       "<div>\n",
       "<style scoped>\n",
       "    .dataframe tbody tr th:only-of-type {\n",
       "        vertical-align: middle;\n",
       "    }\n",
       "\n",
       "    .dataframe tbody tr th {\n",
       "        vertical-align: top;\n",
       "    }\n",
       "\n",
       "    .dataframe thead th {\n",
       "        text-align: right;\n",
       "    }\n",
       "</style>\n",
       "<table border=\"1\" class=\"dataframe\">\n",
       "  <thead>\n",
       "    <tr style=\"text-align: right;\">\n",
       "      <th></th>\n",
       "      <th>sex</th>\n",
       "      <th>age</th>\n",
       "      <th>education</th>\n",
       "      <th>currentSmoker</th>\n",
       "      <th>cigsPerDay</th>\n",
       "      <th>BPMeds</th>\n",
       "      <th>prevalentStroke</th>\n",
       "      <th>prevalentHyp</th>\n",
       "      <th>diabetes</th>\n",
       "      <th>totChol</th>\n",
       "      <th>sysBP</th>\n",
       "      <th>diaBP</th>\n",
       "      <th>BMI</th>\n",
       "      <th>heartRate</th>\n",
       "      <th>glucose</th>\n",
       "      <th>TenYearCHD</th>\n",
       "    </tr>\n",
       "  </thead>\n",
       "  <tbody>\n",
       "    <tr>\n",
       "      <th>0</th>\n",
       "      <td>1</td>\n",
       "      <td>58</td>\n",
       "      <td>1.0</td>\n",
       "      <td>0</td>\n",
       "      <td>0.0</td>\n",
       "      <td>0.0</td>\n",
       "      <td>0</td>\n",
       "      <td>0</td>\n",
       "      <td>0</td>\n",
       "      <td>220.0</td>\n",
       "      <td>143.0</td>\n",
       "      <td>104.0</td>\n",
       "      <td>29.85</td>\n",
       "      <td>75</td>\n",
       "      <td>87.000000</td>\n",
       "      <td>1</td>\n",
       "    </tr>\n",
       "    <tr>\n",
       "      <th>1</th>\n",
       "      <td>0</td>\n",
       "      <td>40</td>\n",
       "      <td>1.0</td>\n",
       "      <td>1</td>\n",
       "      <td>15.0</td>\n",
       "      <td>0.0</td>\n",
       "      <td>0</td>\n",
       "      <td>0</td>\n",
       "      <td>0</td>\n",
       "      <td>199.0</td>\n",
       "      <td>122.0</td>\n",
       "      <td>82.0</td>\n",
       "      <td>22.16</td>\n",
       "      <td>85</td>\n",
       "      <td>77.000000</td>\n",
       "      <td>0</td>\n",
       "    </tr>\n",
       "    <tr>\n",
       "      <th>2</th>\n",
       "      <td>0</td>\n",
       "      <td>52</td>\n",
       "      <td>1.0</td>\n",
       "      <td>0</td>\n",
       "      <td>0.0</td>\n",
       "      <td>0.0</td>\n",
       "      <td>0</td>\n",
       "      <td>0</td>\n",
       "      <td>0</td>\n",
       "      <td>275.0</td>\n",
       "      <td>112.0</td>\n",
       "      <td>71.0</td>\n",
       "      <td>25.68</td>\n",
       "      <td>80</td>\n",
       "      <td>79.380242</td>\n",
       "      <td>0</td>\n",
       "    </tr>\n",
       "    <tr>\n",
       "      <th>3</th>\n",
       "      <td>1</td>\n",
       "      <td>38</td>\n",
       "      <td>2.0</td>\n",
       "      <td>1</td>\n",
       "      <td>43.0</td>\n",
       "      <td>0.0</td>\n",
       "      <td>0</td>\n",
       "      <td>1</td>\n",
       "      <td>0</td>\n",
       "      <td>170.0</td>\n",
       "      <td>130.0</td>\n",
       "      <td>94.0</td>\n",
       "      <td>23.90</td>\n",
       "      <td>110</td>\n",
       "      <td>75.000000</td>\n",
       "      <td>0</td>\n",
       "    </tr>\n",
       "    <tr>\n",
       "      <th>4</th>\n",
       "      <td>0</td>\n",
       "      <td>43</td>\n",
       "      <td>1.0</td>\n",
       "      <td>0</td>\n",
       "      <td>0.0</td>\n",
       "      <td>0.0</td>\n",
       "      <td>0</td>\n",
       "      <td>0</td>\n",
       "      <td>0</td>\n",
       "      <td>202.0</td>\n",
       "      <td>124.0</td>\n",
       "      <td>92.0</td>\n",
       "      <td>21.26</td>\n",
       "      <td>75</td>\n",
       "      <td>74.000000</td>\n",
       "      <td>0</td>\n",
       "    </tr>\n",
       "  </tbody>\n",
       "</table>\n",
       "</div>"
      ],
      "text/plain": [
       "   sex  age  education  currentSmoker  cigsPerDay  BPMeds  prevalentStroke  \\\n",
       "0    1   58        1.0              0         0.0     0.0                0   \n",
       "1    0   40        1.0              1        15.0     0.0                0   \n",
       "2    0   52        1.0              0         0.0     0.0                0   \n",
       "3    1   38        2.0              1        43.0     0.0                0   \n",
       "4    0   43        1.0              0         0.0     0.0                0   \n",
       "\n",
       "   prevalentHyp  diabetes  totChol  sysBP  diaBP    BMI  heartRate    glucose  \\\n",
       "0             0         0    220.0  143.0  104.0  29.85         75  87.000000   \n",
       "1             0         0    199.0  122.0   82.0  22.16         85  77.000000   \n",
       "2             0         0    275.0  112.0   71.0  25.68         80  79.380242   \n",
       "3             1         0    170.0  130.0   94.0  23.90        110  75.000000   \n",
       "4             0         0    202.0  124.0   92.0  21.26         75  74.000000   \n",
       "\n",
       "   TenYearCHD  \n",
       "0           1  \n",
       "1           0  \n",
       "2           0  \n",
       "3           0  \n",
       "4           0  "
      ]
     },
     "execution_count": 268,
     "metadata": {},
     "output_type": "execute_result"
    }
   ],
   "source": [
    "train_data.head()"
   ]
  },
  {
   "cell_type": "markdown",
   "metadata": {},
   "source": [
    "### KDE Plots"
   ]
  },
  {
   "cell_type": "markdown",
   "metadata": {},
   "source": [
    "NOTE: A lot of the KDE plots look the same & have a regular normal distribution. We could get rid of the normal plots and include the KDE plot for cigs per day and focus on that. I also included a box plot, which kinda represents the same thing as a kdeplot."
   ]
  },
  {
   "cell_type": "code",
   "execution_count": 269,
   "metadata": {},
   "outputs": [
    {
     "data": {
      "text/plain": [
       "<Axes: xlabel='age', ylabel='Density'>"
      ]
     },
     "execution_count": 269,
     "metadata": {},
     "output_type": "execute_result"
    },
    {
     "data": {
      "image/png": "[encoded data removed]",
      "text/plain": [
       "<Figure size 640x480 with 1 Axes>"
      ]
     },
     "metadata": {},
     "output_type": "display_data"
    }
   ],
   "source": [
    "sns.kdeplot(train_data, x=train_data['age'])"
   ]
  },
  {
   "cell_type": "code",
   "execution_count": 270,
   "metadata": {},
   "outputs": [
    {
     "data": {
      "text/plain": [
       "<Axes: xlabel='totChol', ylabel='Density'>"
      ]
     },
     "execution_count": 270,
     "metadata": {},
     "output_type": "execute_result"
    },
    {
     "data": {
      "image/png": "[encoded data removed]",
      "text/plain": [
       "<Figure size 640x480 with 1 Axes>"
      ]
     },
     "metadata": {},
     "output_type": "display_data"
    }
   ],
   "source": [
    "sns.kdeplot(train_data, x=train_data['totChol'])"
   ]
  },
  {
   "cell_type": "code",
   "execution_count": 271,
   "metadata": {},
   "outputs": [
    {
     "data": {
      "text/plain": [
       "<Axes: xlabel='sysBP', ylabel='Density'>"
      ]
     },
     "execution_count": 271,
     "metadata": {},
     "output_type": "execute_result"
    },
    {
     "data": {
      "image/png": "[encoded data removed]",
      "text/plain": [
       "<Figure size 640x480 with 1 Axes>"
      ]
     },
     "metadata": {},
     "output_type": "display_data"
    }
   ],
   "source": [
    "sns.kdeplot(train_data, x=train_data['sysBP'])\n"
   ]
  },
  {
   "cell_type": "code",
   "execution_count": 272,
   "metadata": {},
   "outputs": [
    {
     "data": {
      "text/plain": [
       "<Axes: xlabel='diaBP', ylabel='Density'>"
      ]
     },
     "execution_count": 272,
     "metadata": {},
     "output_type": "execute_result"
    },
    {
     "data": {
      "image/png": "[encoded data removed]",
      "text/plain": [
       "<Figure size 640x480 with 1 Axes>"
      ]
     },
     "metadata": {},
     "output_type": "display_data"
    }
   ],
   "source": [
    "sns.kdeplot(train_data, x=train_data['diaBP'])"
   ]
  },
  {
   "cell_type": "code",
   "execution_count": 273,
   "metadata": {},
   "outputs": [
    {
     "data": {
      "text/plain": [
       "<Axes: xlabel='BMI', ylabel='Density'>"
      ]
     },
     "execution_count": 273,
     "metadata": {},
     "output_type": "execute_result"
    },
    {
     "data": {
      "image/png": "[encoded data removed]",
      "text/plain": [
       "<Figure size 640x480 with 1 Axes>"
      ]
     },
     "metadata": {},
     "output_type": "display_data"
    }
   ],
   "source": [
    "sns.kdeplot(train_data, x=train_data['BMI'])"
   ]
  },
  {
   "cell_type": "code",
   "execution_count": 274,
   "metadata": {},
   "outputs": [
    {
     "data": {
      "text/plain": [
       "<Axes: xlabel='cigsPerDay', ylabel='Density'>"
      ]
     },
     "execution_count": 274,
     "metadata": {},
     "output_type": "execute_result"
    },
    {
     "data": {
      "image/png": "[encoded data removed]",
      "text/plain": [
       "<Figure size 640x480 with 1 Axes>"
      ]
     },
     "metadata": {},
     "output_type": "display_data"
    }
   ],
   "source": [
    "sns.kdeplot(train_data, x=train_data['cigsPerDay'])"
   ]
  },
  {
   "cell_type": "code",
   "execution_count": 275,
   "metadata": {},
   "outputs": [
    {
     "data": {
      "text/plain": [
       "<Axes: xlabel='heartRate', ylabel='Density'>"
      ]
     },
     "execution_count": 275,
     "metadata": {},
     "output_type": "execute_result"
    },
    {
     "data": {
      "image/png": "[encoded data removed]",
      "text/plain": [
       "<Figure size 640x480 with 1 Axes>"
      ]
     },
     "metadata": {},
     "output_type": "display_data"
    }
   ],
   "source": [
    "sns.kdeplot(data=train_data, x=train_data['heartRate'])"
   ]
  },
  {
   "cell_type": "markdown",
   "metadata": {},
   "source": [
    "> All the continuous variables are unimodal other than cigsPerDay. This is because the participants are split between smokers and non-smokers, so there is a significant peak at 0 for the non-smokers. Then, the frequencies fluctuate as the number of cigsPerDay increases."
   ]
  },
  {
   "cell_type": "markdown",
   "metadata": {},
   "source": [
    "### Correlation & Outliers"
   ]
  },
  {
   "cell_type": "code",
   "execution_count": 276,
   "metadata": {},
   "outputs": [],
   "source": [
    "# Define outliers method\n",
    "def outliers(data, column_name):\n",
    "    # Calculate Q1 and Q3 of the column\n",
    "    Q1 = data[column_name].quantile(0.25)\n",
    "    Q3 = data[column_name].quantile(0.75)\n",
    "    \n",
    "    # Calculate the IQR\n",
    "    IQR = Q3 - Q1\n",
    "    \n",
    "    # Determine the outlier cutoffs\n",
    "    lower_bound = Q1 - 1.5 * IQR\n",
    "    upper_bound = Q3 + 1.5 * IQR\n",
    "    \n",
    "    # Find outliers\n",
    "    outliers = (data[column_name] < lower_bound) | (data[column_name] > upper_bound)\n",
    "\n",
    "    print(outliers.sum())\n",
    "    # Single out points that are outliers\n",
    "    # print(outliers[outliers])"
   ]
  },
  {
   "cell_type": "code",
   "execution_count": 277,
   "metadata": {},
   "outputs": [
    {
     "name": "stdout",
     "output_type": "stream",
     "text": [
      "Outliers for sex: \n",
      "0\n",
      "\n",
      "\n",
      "Outliers for age: \n",
      "0\n",
      "\n",
      "\n",
      "Outliers for education: \n",
      "0\n",
      "\n",
      "\n",
      "Outliers for currentSmoker: \n",
      "0\n",
      "\n",
      "\n",
      "Outliers for cigsPerDay: \n",
      "10\n",
      "\n",
      "\n",
      "Outliers for BPMeds: \n",
      "94\n",
      "\n",
      "\n",
      "Outliers for prevalentStroke: \n",
      "21\n",
      "\n",
      "\n",
      "Outliers for prevalentHyp: \n",
      "0\n",
      "\n",
      "\n",
      "Outliers for diabetes: \n",
      "83\n",
      "\n",
      "\n",
      "Outliers for totChol: \n",
      "47\n",
      "\n",
      "\n",
      "Outliers for sysBP: \n",
      "102\n",
      "\n",
      "\n",
      "Outliers for diaBP: \n",
      "57\n",
      "\n",
      "\n",
      "Outliers for BMI: \n",
      "76\n",
      "\n",
      "\n",
      "Outliers for heartRate: \n",
      "58\n",
      "\n",
      "\n",
      "Outliers for glucose: \n",
      "199\n",
      "\n",
      "\n",
      "Outliers for TenYearCHD: \n",
      "487\n",
      "\n",
      "\n"
     ]
    }
   ],
   "source": [
    "for column in train_data.columns:\n",
    "  print(f\"Outliers for {column}: \")\n",
    "  outliers(train_data, column)\n",
    "  print(\"\\n\")"
   ]
  },
  {
   "cell_type": "code",
   "execution_count": 278,
   "metadata": {},
   "outputs": [],
   "source": [
    "# Split data in half so boxplots are easier to see\n",
    "df_bp = train_data.loc[:, ['age', 'cigsPerDay', 'totChol', 'sysBP', 'diaBP', 'BMI', 'heartRate', 'glucose']]\n"
   ]
  },
  {
   "cell_type": "code",
   "execution_count": 279,
   "metadata": {},
   "outputs": [
    {
     "data": {
      "text/plain": [
       "<Axes: >"
      ]
     },
     "execution_count": 279,
     "metadata": {},
     "output_type": "execute_result"
    },
    {
     "data": {
      "image/png": "[encoded data removed]",
      "text/plain": [
       "<Figure size 640x480 with 1 Axes>"
      ]
     },
     "metadata": {},
     "output_type": "display_data"
    }
   ],
   "source": [
    "sns.boxplot(data=df_bp)"
   ]
  },
  {
   "cell_type": "markdown",
   "metadata": {},
   "source": [
    "Based on the boxplots, we see some badly scaled variables:\n",
    "\n",
    "- **totChol** and **glucose**: These variables show a significantly wider range and larger values - compared to others, indicating they are on a different scale.\n",
    "- **sysBP** and **diaBP**: Systolic and diastolic blood pressures also appear to have a larger range, although not as pronounced as totChol and glucose.\n",
    "- **age, cigsPerDay, BMI**, and **heartRate**: These variables have a much narrower range and smaller values, hence they are scaled differently compared to totChol and glucose.\n",
    "\n",
    "Candidates for log transformation:\n",
    "- **totChol**: Since this variable has a long tail with extreme values, it might benefit from a log transformation to compress the scale and normalize the distribution.\n",
    "- **glucose**: Similar to totChol, it has a positive skew with some extreme values that could be normalized with a log transformation.\n",
    "- **sysBP**: Though not as extreme as totChol and glucose, it has a positive skew.\n"
   ]
  },
  {
   "cell_type": "code",
   "execution_count": 280,
   "metadata": {},
   "outputs": [
    {
     "data": {
      "text/plain": [
       "<Axes: >"
      ]
     },
     "execution_count": 280,
     "metadata": {},
     "output_type": "execute_result"
    },
    {
     "data": {
      "image/png": "[encoded data removed]",
      "text/plain": [
       "<Figure size 640x480 with 1 Axes>"
      ]
     },
     "metadata": {},
     "output_type": "display_data"
    }
   ],
   "source": [
    "train_data['totChol_log'] = np.log(train_data['totChol'])\n",
    "train_data['glucose_log'] = np.log(train_data['glucose'])\n",
    "train_data['sysBP_log'] = np.log(train_data['sysBP'])\n",
    "train_data['BMI_log'] = np.log(train_data['BMI'])\n",
    "train_data['diaBP_log'] = np.log(train_data['diaBP'])\n",
    "train_data['heartRate_log'] = np.log(train_data['heartRate'])\n",
    "\n",
    "\n",
    "train_data = train_data.drop(['totChol', 'glucose', 'sysBP', 'BMI', 'diaBP', 'heartRate'], axis=1)\n",
    "sns.boxplot(data=train_data.loc[:, ['age', 'cigsPerDay', 'totChol_log', 'sysBP_log', 'diaBP_log', 'BMI_log', 'heartRate_log', 'glucose_log']])\n",
    "\n"
   ]
  },
  {
   "cell_type": "code",
   "execution_count": 281,
   "metadata": {},
   "outputs": [
    {
     "data": {
      "text/html": [
       "<div>\n",
       "<style scoped>\n",
       "    .dataframe tbody tr th:only-of-type {\n",
       "        vertical-align: middle;\n",
       "    }\n",
       "\n",
       "    .dataframe tbody tr th {\n",
       "        vertical-align: top;\n",
       "    }\n",
       "\n",
       "    .dataframe thead th {\n",
       "        text-align: right;\n",
       "    }\n",
       "</style>\n",
       "<table border=\"1\" class=\"dataframe\">\n",
       "  <thead>\n",
       "    <tr style=\"text-align: right;\">\n",
       "      <th></th>\n",
       "      <th>sex</th>\n",
       "      <th>age</th>\n",
       "      <th>education</th>\n",
       "      <th>currentSmoker</th>\n",
       "      <th>cigsPerDay</th>\n",
       "      <th>BPMeds</th>\n",
       "      <th>prevalentStroke</th>\n",
       "      <th>prevalentHyp</th>\n",
       "      <th>diabetes</th>\n",
       "      <th>TenYearCHD</th>\n",
       "      <th>totChol_log</th>\n",
       "      <th>glucose_log</th>\n",
       "      <th>sysBP_log</th>\n",
       "      <th>BMI_log</th>\n",
       "      <th>diaBP_log</th>\n",
       "      <th>heartRate_log</th>\n",
       "    </tr>\n",
       "  </thead>\n",
       "  <tbody>\n",
       "    <tr>\n",
       "      <th>sex</th>\n",
       "      <td>1.000000</td>\n",
       "      <td>-0.038939</td>\n",
       "      <td>0.006739</td>\n",
       "      <td>0.198117</td>\n",
       "      <td>0.325401</td>\n",
       "      <td>-0.043856</td>\n",
       "      <td>0.007104</td>\n",
       "      <td>0.010722</td>\n",
       "      <td>0.020140</td>\n",
       "      <td>0.097138</td>\n",
       "      <td>-0.065015</td>\n",
       "      <td>0.009162</td>\n",
       "      <td>-0.014026</td>\n",
       "      <td>0.104365</td>\n",
       "      <td>0.070695</td>\n",
       "      <td>-0.112235</td>\n",
       "    </tr>\n",
       "    <tr>\n",
       "      <th>age</th>\n",
       "      <td>-0.038939</td>\n",
       "      <td>1.000000</td>\n",
       "      <td>-0.174209</td>\n",
       "      <td>-0.216628</td>\n",
       "      <td>-0.199792</td>\n",
       "      <td>0.113578</td>\n",
       "      <td>0.064746</td>\n",
       "      <td>0.298794</td>\n",
       "      <td>0.094140</td>\n",
       "      <td>0.225568</td>\n",
       "      <td>0.273612</td>\n",
       "      <td>0.116378</td>\n",
       "      <td>0.397665</td>\n",
       "      <td>0.140850</td>\n",
       "      <td>0.205797</td>\n",
       "      <td>-0.020608</td>\n",
       "    </tr>\n",
       "    <tr>\n",
       "      <th>education</th>\n",
       "      <td>0.006739</td>\n",
       "      <td>-0.174209</td>\n",
       "      <td>1.000000</td>\n",
       "      <td>0.014687</td>\n",
       "      <td>0.006071</td>\n",
       "      <td>-0.013158</td>\n",
       "      <td>-0.031615</td>\n",
       "      <td>-0.083263</td>\n",
       "      <td>-0.040596</td>\n",
       "      <td>-0.052207</td>\n",
       "      <td>-0.024370</td>\n",
       "      <td>-0.042888</td>\n",
       "      <td>-0.138969</td>\n",
       "      <td>-0.143666</td>\n",
       "      <td>-0.066809</td>\n",
       "      <td>-0.075139</td>\n",
       "    </tr>\n",
       "    <tr>\n",
       "      <th>currentSmoker</th>\n",
       "      <td>0.198117</td>\n",
       "      <td>-0.216628</td>\n",
       "      <td>0.014687</td>\n",
       "      <td>1.000000</td>\n",
       "      <td>0.768088</td>\n",
       "      <td>-0.052526</td>\n",
       "      <td>-0.033461</td>\n",
       "      <td>-0.098607</td>\n",
       "      <td>-0.038440</td>\n",
       "      <td>0.001644</td>\n",
       "      <td>-0.027160</td>\n",
       "      <td>-0.069629</td>\n",
       "      <td>-0.135463</td>\n",
       "      <td>-0.180222</td>\n",
       "      <td>-0.104596</td>\n",
       "      <td>0.069470</td>\n",
       "    </tr>\n",
       "    <tr>\n",
       "      <th>cigsPerDay</th>\n",
       "      <td>0.325401</td>\n",
       "      <td>-0.199792</td>\n",
       "      <td>0.006071</td>\n",
       "      <td>0.768088</td>\n",
       "      <td>1.000000</td>\n",
       "      <td>-0.048729</td>\n",
       "      <td>-0.031091</td>\n",
       "      <td>-0.067828</td>\n",
       "      <td>-0.035730</td>\n",
       "      <td>0.046104</td>\n",
       "      <td>-0.012030</td>\n",
       "      <td>-0.073460</td>\n",
       "      <td>-0.087143</td>\n",
       "      <td>-0.094576</td>\n",
       "      <td>-0.049120</td>\n",
       "      <td>0.086049</td>\n",
       "    </tr>\n",
       "    <tr>\n",
       "      <th>BPMeds</th>\n",
       "      <td>-0.043856</td>\n",
       "      <td>0.113578</td>\n",
       "      <td>-0.013158</td>\n",
       "      <td>-0.052526</td>\n",
       "      <td>-0.048729</td>\n",
       "      <td>1.000000</td>\n",
       "      <td>0.123311</td>\n",
       "      <td>0.249816</td>\n",
       "      <td>0.052946</td>\n",
       "      <td>0.090762</td>\n",
       "      <td>0.068706</td>\n",
       "      <td>0.026942</td>\n",
       "      <td>0.234829</td>\n",
       "      <td>0.086349</td>\n",
       "      <td>0.186454</td>\n",
       "      <td>-0.010807</td>\n",
       "    </tr>\n",
       "    <tr>\n",
       "      <th>prevalentStroke</th>\n",
       "      <td>0.007104</td>\n",
       "      <td>0.064746</td>\n",
       "      <td>-0.031615</td>\n",
       "      <td>-0.033461</td>\n",
       "      <td>-0.031091</td>\n",
       "      <td>0.123311</td>\n",
       "      <td>1.000000</td>\n",
       "      <td>0.068668</td>\n",
       "      <td>-0.013348</td>\n",
       "      <td>0.062357</td>\n",
       "      <td>-0.012683</td>\n",
       "      <td>0.006133</td>\n",
       "      <td>0.056338</td>\n",
       "      <td>-0.003716</td>\n",
       "      <td>0.037934</td>\n",
       "      <td>-0.025065</td>\n",
       "    </tr>\n",
       "    <tr>\n",
       "      <th>prevalentHyp</th>\n",
       "      <td>0.010722</td>\n",
       "      <td>0.298794</td>\n",
       "      <td>-0.083263</td>\n",
       "      <td>-0.098607</td>\n",
       "      <td>-0.067828</td>\n",
       "      <td>0.249816</td>\n",
       "      <td>0.068668</td>\n",
       "      <td>1.000000</td>\n",
       "      <td>0.081750</td>\n",
       "      <td>0.163910</td>\n",
       "      <td>0.163559</td>\n",
       "      <td>0.086540</td>\n",
       "      <td>0.692539</td>\n",
       "      <td>0.295462</td>\n",
       "      <td>0.602688</td>\n",
       "      <td>0.144758</td>\n",
       "    </tr>\n",
       "    <tr>\n",
       "      <th>diabetes</th>\n",
       "      <td>0.020140</td>\n",
       "      <td>0.094140</td>\n",
       "      <td>-0.040596</td>\n",
       "      <td>-0.038440</td>\n",
       "      <td>-0.035730</td>\n",
       "      <td>0.052946</td>\n",
       "      <td>-0.013348</td>\n",
       "      <td>0.081750</td>\n",
       "      <td>1.000000</td>\n",
       "      <td>0.105644</td>\n",
       "      <td>0.038048</td>\n",
       "      <td>0.516081</td>\n",
       "      <td>0.098315</td>\n",
       "      <td>0.079231</td>\n",
       "      <td>0.042158</td>\n",
       "      <td>0.044031</td>\n",
       "    </tr>\n",
       "    <tr>\n",
       "      <th>TenYearCHD</th>\n",
       "      <td>0.097138</td>\n",
       "      <td>0.225568</td>\n",
       "      <td>-0.052207</td>\n",
       "      <td>0.001644</td>\n",
       "      <td>0.046104</td>\n",
       "      <td>0.090762</td>\n",
       "      <td>0.062357</td>\n",
       "      <td>0.163910</td>\n",
       "      <td>0.105644</td>\n",
       "      <td>1.000000</td>\n",
       "      <td>0.095522</td>\n",
       "      <td>0.106308</td>\n",
       "      <td>0.200679</td>\n",
       "      <td>0.068584</td>\n",
       "      <td>0.126061</td>\n",
       "      <td>0.023211</td>\n",
       "    </tr>\n",
       "    <tr>\n",
       "      <th>totChol_log</th>\n",
       "      <td>-0.065015</td>\n",
       "      <td>0.273612</td>\n",
       "      <td>-0.024370</td>\n",
       "      <td>-0.027160</td>\n",
       "      <td>-0.012030</td>\n",
       "      <td>0.068706</td>\n",
       "      <td>-0.012683</td>\n",
       "      <td>0.163559</td>\n",
       "      <td>0.038048</td>\n",
       "      <td>0.095522</td>\n",
       "      <td>1.000000</td>\n",
       "      <td>0.027689</td>\n",
       "      <td>0.216820</td>\n",
       "      <td>0.132066</td>\n",
       "      <td>0.161849</td>\n",
       "      <td>0.080574</td>\n",
       "    </tr>\n",
       "    <tr>\n",
       "      <th>glucose_log</th>\n",
       "      <td>0.009162</td>\n",
       "      <td>0.116378</td>\n",
       "      <td>-0.042888</td>\n",
       "      <td>-0.069629</td>\n",
       "      <td>-0.073460</td>\n",
       "      <td>0.026942</td>\n",
       "      <td>0.006133</td>\n",
       "      <td>0.086540</td>\n",
       "      <td>0.516081</td>\n",
       "      <td>0.106308</td>\n",
       "      <td>0.027689</td>\n",
       "      <td>1.000000</td>\n",
       "      <td>0.124897</td>\n",
       "      <td>0.085525</td>\n",
       "      <td>0.052920</td>\n",
       "      <td>0.083341</td>\n",
       "    </tr>\n",
       "    <tr>\n",
       "      <th>sysBP_log</th>\n",
       "      <td>-0.014026</td>\n",
       "      <td>0.397665</td>\n",
       "      <td>-0.138969</td>\n",
       "      <td>-0.135463</td>\n",
       "      <td>-0.087143</td>\n",
       "      <td>0.234829</td>\n",
       "      <td>0.056338</td>\n",
       "      <td>0.692539</td>\n",
       "      <td>0.098315</td>\n",
       "      <td>0.200679</td>\n",
       "      <td>0.216820</td>\n",
       "      <td>0.124897</td>\n",
       "      <td>1.000000</td>\n",
       "      <td>0.327245</td>\n",
       "      <td>0.785856</td>\n",
       "      <td>0.166299</td>\n",
       "    </tr>\n",
       "    <tr>\n",
       "      <th>BMI_log</th>\n",
       "      <td>0.104365</td>\n",
       "      <td>0.140850</td>\n",
       "      <td>-0.143666</td>\n",
       "      <td>-0.180222</td>\n",
       "      <td>-0.094576</td>\n",
       "      <td>0.086349</td>\n",
       "      <td>-0.003716</td>\n",
       "      <td>0.295462</td>\n",
       "      <td>0.079231</td>\n",
       "      <td>0.068584</td>\n",
       "      <td>0.132066</td>\n",
       "      <td>0.085525</td>\n",
       "      <td>0.327245</td>\n",
       "      <td>1.000000</td>\n",
       "      <td>0.378111</td>\n",
       "      <td>0.060736</td>\n",
       "    </tr>\n",
       "    <tr>\n",
       "      <th>diaBP_log</th>\n",
       "      <td>0.070695</td>\n",
       "      <td>0.205797</td>\n",
       "      <td>-0.066809</td>\n",
       "      <td>-0.104596</td>\n",
       "      <td>-0.049120</td>\n",
       "      <td>0.186454</td>\n",
       "      <td>0.037934</td>\n",
       "      <td>0.602688</td>\n",
       "      <td>0.042158</td>\n",
       "      <td>0.126061</td>\n",
       "      <td>0.161849</td>\n",
       "      <td>0.052920</td>\n",
       "      <td>0.785856</td>\n",
       "      <td>0.378111</td>\n",
       "      <td>1.000000</td>\n",
       "      <td>0.167325</td>\n",
       "    </tr>\n",
       "    <tr>\n",
       "      <th>heartRate_log</th>\n",
       "      <td>-0.112235</td>\n",
       "      <td>-0.020608</td>\n",
       "      <td>-0.075139</td>\n",
       "      <td>0.069470</td>\n",
       "      <td>0.086049</td>\n",
       "      <td>-0.010807</td>\n",
       "      <td>-0.025065</td>\n",
       "      <td>0.144758</td>\n",
       "      <td>0.044031</td>\n",
       "      <td>0.023211</td>\n",
       "      <td>0.080574</td>\n",
       "      <td>0.083341</td>\n",
       "      <td>0.166299</td>\n",
       "      <td>0.060736</td>\n",
       "      <td>0.167325</td>\n",
       "      <td>1.000000</td>\n",
       "    </tr>\n",
       "  </tbody>\n",
       "</table>\n",
       "</div>"
      ],
      "text/plain": [
       "                      sex       age  education  currentSmoker  cigsPerDay  \\\n",
       "sex              1.000000 -0.038939   0.006739       0.198117    0.325401   \n",
       "age             -0.038939  1.000000  -0.174209      -0.216628   -0.199792   \n",
       "education        0.006739 -0.174209   1.000000       0.014687    0.006071   \n",
       "currentSmoker    0.198117 -0.216628   0.014687       1.000000    0.768088   \n",
       "cigsPerDay       0.325401 -0.199792   0.006071       0.768088    1.000000   \n",
       "BPMeds          -0.043856  0.113578  -0.013158      -0.052526   -0.048729   \n",
       "prevalentStroke  0.007104  0.064746  -0.031615      -0.033461   -0.031091   \n",
       "prevalentHyp     0.010722  0.298794  -0.083263      -0.098607   -0.067828   \n",
       "diabetes         0.020140  0.094140  -0.040596      -0.038440   -0.035730   \n",
       "TenYearCHD       0.097138  0.225568  -0.052207       0.001644    0.046104   \n",
       "totChol_log     -0.065015  0.273612  -0.024370      -0.027160   -0.012030   \n",
       "glucose_log      0.009162  0.116378  -0.042888      -0.069629   -0.073460   \n",
       "sysBP_log       -0.014026  0.397665  -0.138969      -0.135463   -0.087143   \n",
       "BMI_log          0.104365  0.140850  -0.143666      -0.180222   -0.094576   \n",
       "diaBP_log        0.070695  0.205797  -0.066809      -0.104596   -0.049120   \n",
       "heartRate_log   -0.112235 -0.020608  -0.075139       0.069470    0.086049   \n",
       "\n",
       "                   BPMeds  prevalentStroke  prevalentHyp  diabetes  \\\n",
       "sex             -0.043856         0.007104      0.010722  0.020140   \n",
       "age              0.113578         0.064746      0.298794  0.094140   \n",
       "education       -0.013158        -0.031615     -0.083263 -0.040596   \n",
       "currentSmoker   -0.052526        -0.033461     -0.098607 -0.038440   \n",
       "cigsPerDay      -0.048729        -0.031091     -0.067828 -0.035730   \n",
       "BPMeds           1.000000         0.123311      0.249816  0.052946   \n",
       "prevalentStroke  0.123311         1.000000      0.068668 -0.013348   \n",
       "prevalentHyp     0.249816         0.068668      1.000000  0.081750   \n",
       "diabetes         0.052946        -0.013348      0.081750  1.000000   \n",
       "TenYearCHD       0.090762         0.062357      0.163910  0.105644   \n",
       "totChol_log      0.068706        -0.012683      0.163559  0.038048   \n",
       "glucose_log      0.026942         0.006133      0.086540  0.516081   \n",
       "sysBP_log        0.234829         0.056338      0.692539  0.098315   \n",
       "BMI_log          0.086349        -0.003716      0.295462  0.079231   \n",
       "diaBP_log        0.186454         0.037934      0.602688  0.042158   \n",
       "heartRate_log   -0.010807        -0.025065      0.144758  0.044031   \n",
       "\n",
       "                 TenYearCHD  totChol_log  glucose_log  sysBP_log   BMI_log  \\\n",
       "sex                0.097138    -0.065015     0.009162  -0.014026  0.104365   \n",
       "age                0.225568     0.273612     0.116378   0.397665  0.140850   \n",
       "education         -0.052207    -0.024370    -0.042888  -0.138969 -0.143666   \n",
       "currentSmoker      0.001644    -0.027160    -0.069629  -0.135463 -0.180222   \n",
       "cigsPerDay         0.046104    -0.012030    -0.073460  -0.087143 -0.094576   \n",
       "BPMeds             0.090762     0.068706     0.026942   0.234829  0.086349   \n",
       "prevalentStroke    0.062357    -0.012683     0.006133   0.056338 -0.003716   \n",
       "prevalentHyp       0.163910     0.163559     0.086540   0.692539  0.295462   \n",
       "diabetes           0.105644     0.038048     0.516081   0.098315  0.079231   \n",
       "TenYearCHD         1.000000     0.095522     0.106308   0.200679  0.068584   \n",
       "totChol_log        0.095522     1.000000     0.027689   0.216820  0.132066   \n",
       "glucose_log        0.106308     0.027689     1.000000   0.124897  0.085525   \n",
       "sysBP_log          0.200679     0.216820     0.124897   1.000000  0.327245   \n",
       "BMI_log            0.068584     0.132066     0.085525   0.327245  1.000000   \n",
       "diaBP_log          0.126061     0.161849     0.052920   0.785856  0.378111   \n",
       "heartRate_log      0.023211     0.080574     0.083341   0.166299  0.060736   \n",
       "\n",
       "                 diaBP_log  heartRate_log  \n",
       "sex               0.070695      -0.112235  \n",
       "age               0.205797      -0.020608  \n",
       "education        -0.066809      -0.075139  \n",
       "currentSmoker    -0.104596       0.069470  \n",
       "cigsPerDay       -0.049120       0.086049  \n",
       "BPMeds            0.186454      -0.010807  \n",
       "prevalentStroke   0.037934      -0.025065  \n",
       "prevalentHyp      0.602688       0.144758  \n",
       "diabetes          0.042158       0.044031  \n",
       "TenYearCHD        0.126061       0.023211  \n",
       "totChol_log       0.161849       0.080574  \n",
       "glucose_log       0.052920       0.083341  \n",
       "sysBP_log         0.785856       0.166299  \n",
       "BMI_log           0.378111       0.060736  \n",
       "diaBP_log         1.000000       0.167325  \n",
       "heartRate_log     0.167325       1.000000  "
      ]
     },
     "execution_count": 281,
     "metadata": {},
     "output_type": "execute_result"
    }
   ],
   "source": [
    "train_data.corr()"
   ]
  },
  {
   "cell_type": "markdown",
   "metadata": {},
   "source": [
    "> Based on the correlation matrix, the variables that are strongly associated with TenYearCHD are age (0.226), and systolic blood pressure (0.206)."
   ]
  },
  {
   "cell_type": "code",
   "execution_count": 282,
   "metadata": {},
   "outputs": [
    {
     "name": "stdout",
     "output_type": "stream",
     "text": [
      "      count      mean       std  min  25%  50%  75%  max\n",
      "sex                                                     \n",
      "0    1803.0  0.122573  0.328038  0.0  0.0  0.0  0.0  1.0\n",
      "1    1377.0  0.193174  0.394931  0.0  0.0  0.0  0.0  1.0\n",
      "                count      mean       std  min  25%  50%  75%  max\n",
      "currentSmoker                                                     \n",
      "0              1619.0  0.152563  0.359677  0.0  0.0  0.0  0.0  1.0\n",
      "1              1561.0  0.153748  0.360822  0.0  0.0  0.0  0.0  1.0\n",
      "            count      mean       std  min  25%  50%  75%  max\n",
      "education                                                     \n",
      "1.0        1310.0  0.190076  0.392511  0.0  0.0  0.0  0.0  1.0\n",
      "2.0        1034.0  0.115087  0.319281  0.0  0.0  0.0  0.0  1.0\n",
      "3.0         495.0  0.139394  0.346708  0.0  0.0  0.0  0.0  1.0\n",
      "4.0         341.0  0.146628  0.354254  0.0  0.0  0.0  0.0  1.0\n",
      "                  count      mean       std  min  25%  50%  75%  max\n",
      "prevalentStroke                                                     \n",
      "0                3159.0  0.151314  0.358411  0.0  0.0  0.0  0.0  1.0\n",
      "1                  21.0  0.428571  0.507093  0.0  0.0  0.0  1.0  1.0\n",
      "               count      mean       std  min  25%  50%  75%  max\n",
      "prevalentHyp                                                     \n",
      "0             2159.0  0.112552  0.316118  0.0  0.0  0.0  0.0  1.0\n",
      "1             1021.0  0.238981  0.426670  0.0  0.0  0.0  0.0  1.0\n",
      "           count      mean       std  min  25%  50%  75%  max\n",
      "diabetes                                                     \n",
      "0         3097.0  0.146916  0.354080  0.0  0.0  0.0  0.0  1.0\n",
      "1           83.0  0.385542  0.489682  0.0  0.0  0.0  1.0  1.0\n",
      "         count      mean       std  min  25%  50%  75%  max\n",
      "BPMeds                                                     \n",
      "0.0     3086.0  0.147440  0.354602  0.0  0.0  0.0  0.0  1.0\n",
      "1.0       94.0  0.340426  0.476393  0.0  0.0  0.0  1.0  1.0\n"
     ]
    }
   ],
   "source": [
    "binary_columns = ['sex', 'currentSmoker', 'education', 'prevalentStroke', 'prevalentHyp', 'diabetes', 'BPMeds']\n",
    "for c in binary_columns:\n",
    "  print(train_data['TenYearCHD'].groupby(train_data[c]).describe())"
   ]
  },
  {
   "cell_type": "markdown",
   "metadata": {},
   "source": [
    "> By looking at a summary table of TenYearCHD grouped by categorical variables, we see that there is a slight difference in the mean of women who have TenYearCHD than men (0.122 vs. 0.193). There doesn't seem to be a difference in average TenYearCHD for current vs. non-smoker, which is surprising considering general perspectives on heart health. In education, there is some variation in the averages of TenYearCHD. An education of \"some high school\" warrants the highest mean of 0.19 for that group, while \"college\" is second with a mean of 0.1466. For the proportion of the population that has prevalent strokes, the TenYearCHD average is almost 0.43, which is much higher than the population that's free of disease (0.15 average). The difference in averages persists with the prevalent hypertensive population, with an average TenYearCHD more than double those without prevalent hypertension (0.24 vs 0.112). Diabetes seems to be a strong indicator of TenYearCHD, with a 162% increase in the frequency of TenYearCHD for those with diabetes versus those without. Similarly, BPMeds is also a strong indicator with a 131% increase in the frequency of TenYearCHD."
   ]
  },
  {
   "cell_type": "markdown",
   "metadata": {},
   "source": [
    "# kNN classifier"
   ]
  },
  {
   "cell_type": "code",
   "execution_count": 283,
   "metadata": {},
   "outputs": [],
   "source": [
    "# Use this for RSQ\n",
    "def getRSQ(ytest, yhat, y):\n",
    "  SSE = np.sum( (ytest - yhat)**2 )\n",
    "  TSS = np.sum( (ytest - np.mean(y) )**2 )\n",
    "  return 1 - SSE/TSS"
   ]
  },
  {
   "cell_type": "markdown",
   "metadata": {},
   "source": [
    "> Based on the correlation matrix and the summary table of TenYearCHD grouped by categorical variables, we've decided the most predictive variables of TenYearCHD are prevalentStroke, prevalentHyp, diabetes, BPMeds, sex, education, age, and sysBP. \n",
    "\n",
    "NOTE: THESE VARIABLES ARE SUBJECT TO CHANGE. WE SHOULD PROBABLY DO SOME TRANSFORMATIONS REGARDING SMOKING. "
   ]
  },
  {
   "cell_type": "code",
   "execution_count": 284,
   "metadata": {},
   "outputs": [],
   "source": [
    "y = train_data['TenYearCHD']\n",
    "predictive_vars = ['prevalentStroke', 'prevalentHyp', 'diabetes', 'BPMeds', 'sex', 'education', 'age', 'sysBP_log']\n",
    "X = train_data.loc[:,predictive_vars]"
   ]
  },
  {
   "cell_type": "markdown",
   "metadata": {},
   "source": [
    "> Maxmin normalize all the variables in X"
   ]
  },
  {
   "cell_type": "code",
   "execution_count": 285,
   "metadata": {},
   "outputs": [
    {
     "data": {
      "text/plain": [
       "Index(['prevalentStroke', 'prevalentHyp', 'diabetes', 'BPMeds', 'sex',\n",
       "       'education', 'age', 'sysBP_log'],\n",
       "      dtype='object')"
      ]
     },
     "execution_count": 285,
     "metadata": {},
     "output_type": "execute_result"
    }
   ],
   "source": [
    "X.columns"
   ]
  },
  {
   "cell_type": "code",
   "execution_count": 286,
   "metadata": {},
   "outputs": [],
   "source": [
    "def maxmin(x):\n",
    "    u = (x-min(x))/(max(x)-min(x))\n",
    "    return u\n",
    "X = X.apply(maxmin)"
   ]
  },
  {
   "cell_type": "markdown",
   "metadata": {},
   "source": [
    "> Split data into 80% training and 20% for evaluation"
   ]
  },
  {
   "cell_type": "code",
   "execution_count": 287,
   "metadata": {},
   "outputs": [],
   "source": [
    "from sklearn.model_selection import train_test_split\n",
    "X_train, X_test, y_train, y_test = train_test_split(X,y,test_size=.2,random_state=100)"
   ]
  },
  {
   "cell_type": "markdown",
   "metadata": {},
   "source": [
    "> Determine optimal value of $k$ for the data"
   ]
  },
  {
   "cell_type": "code",
   "execution_count": 288,
   "metadata": {},
   "outputs": [
    {
     "name": "stdout",
     "output_type": "stream",
     "text": [
      "[39]\n"
     ]
    },
    {
     "data": {
      "image/png": "[encoded data removed]",
      "text/plain": [
       "<Figure size 640x480 with 1 Axes>"
      ]
     },
     "metadata": {},
     "output_type": "display_data"
    }
   ],
   "source": [
    "from sklearn.neighbors import KNeighborsRegressor, KNeighborsClassifier \n",
    "import matplotlib.pyplot as plt\n",
    "\n",
    "k_bar = 200\n",
    "SSE = np.zeros(k_bar)\n",
    "\n",
    "# The Regressor warrants a k value with a lower minSSE than the classifier(72.56 vs. 88)\n",
    "for k in range(k_bar):\n",
    "  # fitted_model = KNeighborsRegressor(n_neighbors=k+1).fit(X_train,y_train) # Optimal k is 48\n",
    "  fitted_model = KNeighborsClassifier(n_neighbors=k+1).fit(X_train,y_train)\n",
    "  y_hat = fitted_model.predict(X_test)\n",
    "  SSE[k] = np.sum((y_test - y_hat) **2)\n",
    "\n",
    "minSSE = np.min(SSE)\n",
    "minIndex = np.where(SSE == minSSE)\n",
    "optimal_k = minIndex[0] + 1\n",
    "print(optimal_k)\n",
    "\n",
    "plt.plot(np.arange(0,k_bar),SSE) # Plot SSE by k\n",
    "plt.xlabel(\"k\")\n",
    "plt.title(f\"optimal k:{optimal_k}, SSE: {minSSE}\")\n",
    "plt.ylabel('SSE')\n",
    "plt.show()"
   ]
  },
  {
   "cell_type": "markdown",
   "metadata": {},
   "source": [
    "> Run the kNN classifier with the optimal $k$ value and determine its accuracy. "
   ]
  },
  {
   "cell_type": "code",
   "execution_count": 289,
   "metadata": {},
   "outputs": [
    {
     "name": "stdout",
     "output_type": "stream",
     "text": [
      "R-squared:  -0.15319619082616698\n",
      "Accuracy:  0.8584905660377359\n",
      "SSE:  90\n"
     ]
    },
    {
     "data": {
      "text/html": [
       "<div>\n",
       "<style scoped>\n",
       "    .dataframe tbody tr th:only-of-type {\n",
       "        vertical-align: middle;\n",
       "    }\n",
       "\n",
       "    .dataframe tbody tr th {\n",
       "        vertical-align: top;\n",
       "    }\n",
       "\n",
       "    .dataframe thead th {\n",
       "        text-align: right;\n",
       "    }\n",
       "</style>\n",
       "<table border=\"1\" class=\"dataframe\">\n",
       "  <thead>\n",
       "    <tr style=\"text-align: right;\">\n",
       "      <th>col_0</th>\n",
       "      <th>0</th>\n",
       "      <th>1</th>\n",
       "    </tr>\n",
       "    <tr>\n",
       "      <th>TenYearCHD</th>\n",
       "      <th></th>\n",
       "      <th></th>\n",
       "    </tr>\n",
       "  </thead>\n",
       "  <tbody>\n",
       "    <tr>\n",
       "      <th>0</th>\n",
       "      <td>544</td>\n",
       "      <td>1</td>\n",
       "    </tr>\n",
       "    <tr>\n",
       "      <th>1</th>\n",
       "      <td>89</td>\n",
       "      <td>2</td>\n",
       "    </tr>\n",
       "  </tbody>\n",
       "</table>\n",
       "</div>"
      ],
      "text/plain": [
       "col_0         0  1\n",
       "TenYearCHD        \n",
       "0           544  1\n",
       "1            89  2"
      ]
     },
     "execution_count": 289,
     "metadata": {},
     "output_type": "execute_result"
    }
   ],
   "source": [
    "model = KNeighborsClassifier(n_neighbors=33).fit(X_train,y_train)\n",
    "y_hat = model.predict(X_test)\n",
    "SSE_final = np.sum( (y_test-y_hat)**2 )\n",
    "\n",
    "SSE = np.sum( (y_test - y_hat)**2 )\n",
    "TSS = np.sum( (y_test - np.mean(y) )**2 )\n",
    "rsq = 1 - SSE/TSS\n",
    "print(\"R-squared: \", rsq)\n",
    "# Accuracy metric for classifier\n",
    "accuracy = model.score(X_test,y_test)\n",
    "print('Accuracy: ', accuracy)\n",
    "print('SSE: ', SSE_final)\n",
    "\n",
    "pd.crosstab(y_test, y_hat)\n",
    "# plot, axes = plt.subplots()\n",
    "# plt.scatter(y_test,y_hat)\n",
    "# plt.title('k: '+str(40)+', SSE: '+str(SSE_final))\n",
    "# axes.set_ylim(0, 1)\n",
    "# axes.set_xlim(0, 1)\n",
    "# plt.show()"
   ]
  },
  {
   "cell_type": "code",
   "execution_count": 290,
   "metadata": {},
   "outputs": [
    {
     "name": "stdout",
     "output_type": "stream",
     "text": [
      "R-squared:  0.07298842663665628\n"
     ]
    }
   ],
   "source": [
    "model = KNeighborsRegressor(n_neighbors=48).fit(X_train,y_train)\n",
    "y_hat = model.predict(X_test)\n",
    "# Accuracy metric for regressor\n",
    "# mse = mean_squared_error(X_test, y_test)\n",
    "# r2 = model.score(X_test, y_test)\n",
    "rsq = getRSQ(y_test, y_hat, y)\n",
    "print(\"R-squared: \", rsq)\n",
    "\n",
    "# print(\"Mean Squared Error:\", mse)"
   ]
  },
  {
   "cell_type": "markdown",
   "metadata": {},
   "source": [
    "> 86% accuracy for the classifier is a lot better than the 7% $r^2$ of the regressor."
   ]
  },
  {
   "cell_type": "markdown",
   "metadata": {},
   "source": [
    "# Regression Tree"
   ]
  },
  {
   "cell_type": "markdown",
   "metadata": {},
   "source": [
    "> Decision trees with unlimited depth"
   ]
  },
  {
   "cell_type": "code",
   "execution_count": 217,
   "metadata": {},
   "outputs": [
    {
     "name": "stdout",
     "output_type": "stream",
     "text": [
      "R-squared:  -0.9219936513769451\n",
      "Accuracy:  0.7641509433962265 \n",
      "\n"
     ]
    },
    {
     "data": {
      "text/html": [
       "<div>\n",
       "<style scoped>\n",
       "    .dataframe tbody tr th:only-of-type {\n",
       "        vertical-align: middle;\n",
       "    }\n",
       "\n",
       "    .dataframe tbody tr th {\n",
       "        vertical-align: top;\n",
       "    }\n",
       "\n",
       "    .dataframe thead th {\n",
       "        text-align: right;\n",
       "    }\n",
       "</style>\n",
       "<table border=\"1\" class=\"dataframe\">\n",
       "  <thead>\n",
       "    <tr style=\"text-align: right;\">\n",
       "      <th>col_0</th>\n",
       "      <th>0</th>\n",
       "      <th>1</th>\n",
       "    </tr>\n",
       "    <tr>\n",
       "      <th>TenYearCHD</th>\n",
       "      <th></th>\n",
       "      <th></th>\n",
       "    </tr>\n",
       "  </thead>\n",
       "  <tbody>\n",
       "    <tr>\n",
       "      <th>0</th>\n",
       "      <td>460</td>\n",
       "      <td>85</td>\n",
       "    </tr>\n",
       "    <tr>\n",
       "      <th>1</th>\n",
       "      <td>65</td>\n",
       "      <td>26</td>\n",
       "    </tr>\n",
       "  </tbody>\n",
       "</table>\n",
       "</div>"
      ],
      "text/plain": [
       "col_0         0   1\n",
       "TenYearCHD         \n",
       "0           460  85\n",
       "1            65  26"
      ]
     },
     "execution_count": 217,
     "metadata": {},
     "output_type": "execute_result"
    }
   ],
   "source": [
    "cart = DecisionTreeClassifier()\n",
    "cart = cart.fit(X_train, y_train)\n",
    "\n",
    "y_hat = cart.predict(X_test)\n",
    "rsq = getRSQ(y_test, y_hat, y)\n",
    "\n",
    "print(\"R-squared: \", rsq)\n",
    "## Confusion Matrix\n",
    "tab = pd.crosstab(y_test,y_hat) # Compute confusion matrix\n",
    "acc = (tab.iloc[0,0]+tab.iloc[1,1])/(tab.iloc[0,0]+tab.iloc[1,1]+tab.iloc[0,1]+tab.iloc[1,0]) # Compute Accuracy\n",
    "\n",
    "print('Accuracy: ', acc, '\\n')\n",
    "pd.crosstab(y_test,y_hat)"
   ]
  },
  {
   "cell_type": "code",
   "execution_count": 314,
   "metadata": {},
   "outputs": [
    {
     "name": "stdout",
     "output_type": "stream",
     "text": [
      "R-squared:  -0.8547238735787521\n",
      "Accuracy:  0.8705440900562852 \n",
      "\n"
     ]
    },
    {
     "data": {
      "text/html": [
       "<div>\n",
       "<style scoped>\n",
       "    .dataframe tbody tr th:only-of-type {\n",
       "        vertical-align: middle;\n",
       "    }\n",
       "\n",
       "    .dataframe tbody tr th {\n",
       "        vertical-align: top;\n",
       "    }\n",
       "\n",
       "    .dataframe thead th {\n",
       "        text-align: right;\n",
       "    }\n",
       "</style>\n",
       "<table border=\"1\" class=\"dataframe\">\n",
       "  <thead>\n",
       "    <tr style=\"text-align: right;\">\n",
       "      <th>col_0</th>\n",
       "      <th>0.0</th>\n",
       "      <th>0.5</th>\n",
       "      <th>1.0</th>\n",
       "    </tr>\n",
       "    <tr>\n",
       "      <th>TenYearCHD</th>\n",
       "      <th></th>\n",
       "      <th></th>\n",
       "      <th></th>\n",
       "    </tr>\n",
       "  </thead>\n",
       "  <tbody>\n",
       "    <tr>\n",
       "      <th>0</th>\n",
       "      <td>464</td>\n",
       "      <td>3</td>\n",
       "      <td>78</td>\n",
       "    </tr>\n",
       "    <tr>\n",
       "      <th>1</th>\n",
       "      <td>66</td>\n",
       "      <td>0</td>\n",
       "      <td>25</td>\n",
       "    </tr>\n",
       "  </tbody>\n",
       "</table>\n",
       "</div>"
      ],
      "text/plain": [
       "col_0       0.0  0.5  1.0\n",
       "TenYearCHD               \n",
       "0           464    3   78\n",
       "1            66    0   25"
      ]
     },
     "execution_count": 314,
     "metadata": {},
     "output_type": "execute_result"
    }
   ],
   "source": [
    "cart = DecisionTreeRegressor()\n",
    "cart = cart.fit(X_train, y_train)\n",
    "\n",
    "y_hat = cart.predict(X_test)\n",
    "rsq = getRSQ(y_test, y_hat, y)\n",
    "print(\"R-squared: \", rsq)\n",
    "## Confusion Matrix\n",
    "tab = pd.crosstab(y_test,y_hat) # Compute confusion matrix\n",
    "acc = (tab.iloc[0,0]+tab.iloc[1,1])/(tab.iloc[0,0]+tab.iloc[1,1]+tab.iloc[0,1]+tab.iloc[1,0]) # Compute Accuracy\n",
    "\n",
    "print('Accuracy: ', acc, '\\n')\n",
    "pd.crosstab(y_test,y_hat)"
   ]
  },
  {
   "cell_type": "markdown",
   "metadata": {},
   "source": [
    "> Decision trees with a max depth of 3"
   ]
  },
  {
   "cell_type": "code",
   "execution_count": 327,
   "metadata": {},
   "outputs": [
    {
     "name": "stdout",
     "output_type": "stream",
     "text": [
      "R-squared:  0.05044775859130857\n",
      "Accuracy:  0.5921052631578947 \n",
      "\n"
     ]
    },
    {
     "data": {
      "text/html": [
       "<div>\n",
       "<style scoped>\n",
       "    .dataframe tbody tr th:only-of-type {\n",
       "        vertical-align: middle;\n",
       "    }\n",
       "\n",
       "    .dataframe tbody tr th {\n",
       "        vertical-align: top;\n",
       "    }\n",
       "\n",
       "    .dataframe thead th {\n",
       "        text-align: right;\n",
       "    }\n",
       "</style>\n",
       "<table border=\"1\" class=\"dataframe\">\n",
       "  <thead>\n",
       "    <tr style=\"text-align: right;\">\n",
       "      <th>col_0</th>\n",
       "      <th>0.078400</th>\n",
       "      <th>0.182703</th>\n",
       "      <th>0.269430</th>\n",
       "      <th>0.333333</th>\n",
       "      <th>0.370968</th>\n",
       "      <th>0.483871</th>\n",
       "      <th>1.000000</th>\n",
       "    </tr>\n",
       "    <tr>\n",
       "      <th>TenYearCHD</th>\n",
       "      <th></th>\n",
       "      <th></th>\n",
       "      <th></th>\n",
       "      <th></th>\n",
       "      <th></th>\n",
       "      <th></th>\n",
       "      <th></th>\n",
       "    </tr>\n",
       "  </thead>\n",
       "  <tbody>\n",
       "    <tr>\n",
       "      <th>0</th>\n",
       "      <td>269</td>\n",
       "      <td>201</td>\n",
       "      <td>44</td>\n",
       "      <td>4</td>\n",
       "      <td>12</td>\n",
       "      <td>13</td>\n",
       "      <td>2</td>\n",
       "    </tr>\n",
       "    <tr>\n",
       "      <th>1</th>\n",
       "      <td>16</td>\n",
       "      <td>46</td>\n",
       "      <td>10</td>\n",
       "      <td>1</td>\n",
       "      <td>4</td>\n",
       "      <td>14</td>\n",
       "      <td>0</td>\n",
       "    </tr>\n",
       "  </tbody>\n",
       "</table>\n",
       "</div>"
      ],
      "text/plain": [
       "col_0       0.078400  0.182703  0.269430  0.333333  0.370968  0.483871  \\\n",
       "TenYearCHD                                                               \n",
       "0                269       201        44         4        12        13   \n",
       "1                 16        46        10         1         4        14   \n",
       "\n",
       "col_0       1.000000  \n",
       "TenYearCHD            \n",
       "0                  2  \n",
       "1                  0  "
      ]
     },
     "execution_count": 327,
     "metadata": {},
     "output_type": "execute_result"
    }
   ],
   "source": [
    "cart = DecisionTreeRegressor(max_depth=3)\n",
    "cart = cart.fit(X_train, y_train)\n",
    "\n",
    "y_hat = cart.predict(X_test)\n",
    "rsq = getRSQ(y_test, y_hat, y)\n",
    "print(\"R-squared: \", rsq)\n",
    "## Confusion Matrix\n",
    "tab = pd.crosstab(y_test,y_hat) # Compute confusion matrix\n",
    "acc = (tab.iloc[0,0]+tab.iloc[1,1])/(tab.iloc[0,0]+tab.iloc[1,1]+tab.iloc[0,1]+tab.iloc[1,0]) # Compute Accuracy\n",
    "\n",
    "print('Accuracy: ', acc, '\\n')\n",
    "pd.crosstab(y_test,y_hat)"
   ]
  },
  {
   "cell_type": "markdown",
   "metadata": {},
   "source": [
    "> Positive r-squared of 0.05..."
   ]
  },
  {
   "cell_type": "code",
   "execution_count": 332,
   "metadata": {},
   "outputs": [
    {
     "name": "stdout",
     "output_type": "stream",
     "text": [
      "R-squared:  -0.4607151750464784\n",
      "Accuracy:  0.8207547169811321 \n",
      "\n"
     ]
    },
    {
     "data": {
      "text/html": [
       "<div>\n",
       "<style scoped>\n",
       "    .dataframe tbody tr th:only-of-type {\n",
       "        vertical-align: middle;\n",
       "    }\n",
       "\n",
       "    .dataframe tbody tr th {\n",
       "        vertical-align: top;\n",
       "    }\n",
       "\n",
       "    .dataframe thead th {\n",
       "        text-align: right;\n",
       "    }\n",
       "</style>\n",
       "<table border=\"1\" class=\"dataframe\">\n",
       "  <thead>\n",
       "    <tr style=\"text-align: right;\">\n",
       "      <th>col_0</th>\n",
       "      <th>0</th>\n",
       "      <th>1</th>\n",
       "    </tr>\n",
       "    <tr>\n",
       "      <th>TenYearCHD</th>\n",
       "      <th></th>\n",
       "      <th></th>\n",
       "    </tr>\n",
       "  </thead>\n",
       "  <tbody>\n",
       "    <tr>\n",
       "      <th>0</th>\n",
       "      <td>510</td>\n",
       "      <td>35</td>\n",
       "    </tr>\n",
       "    <tr>\n",
       "      <th>1</th>\n",
       "      <td>79</td>\n",
       "      <td>12</td>\n",
       "    </tr>\n",
       "  </tbody>\n",
       "</table>\n",
       "</div>"
      ],
      "text/plain": [
       "col_0         0   1\n",
       "TenYearCHD         \n",
       "0           510  35\n",
       "1            79  12"
      ]
     },
     "execution_count": 332,
     "metadata": {},
     "output_type": "execute_result"
    }
   ],
   "source": [
    "cart = DecisionTreeClassifier(max_depth=10)\n",
    "cart = cart.fit(X_train, y_train)\n",
    "\n",
    "y_hat = cart.predict(X_test)\n",
    "rsq = getRSQ(y_test, y_hat, y)\n",
    "print(\"R-squared: \", rsq)\n",
    "## Confusion Matrix\n",
    "tab = pd.crosstab(y_test,y_hat) # Compute confusion matrix\n",
    "acc = (tab.iloc[0,0]+tab.iloc[1,1])/(tab.iloc[0,0]+tab.iloc[1,1]+tab.iloc[0,1]+tab.iloc[1,0]) # Compute Accuracy\n",
    "\n",
    "print('Accuracy: ', acc, '\\n')\n",
    "pd.crosstab(y_test,y_hat)"
   ]
  },
  {
   "cell_type": "markdown",
   "metadata": {},
   "source": [
    "# Linear Regression"
   ]
  },
  {
   "cell_type": "code",
   "execution_count": 334,
   "metadata": {},
   "outputs": [
    {
     "name": "stdout",
     "output_type": "stream",
     "text": [
      "0.07827162990350223\n"
     ]
    }
   ],
   "source": [
    "model = LinearRegression()\n",
    "lm = model.fit(X_train,y_train)\n",
    "y_hat = lm.predict(X_test)\n",
    "rsq = getRSQ(y_test, y_hat, y)\n",
    "print(rsq)"
   ]
  },
  {
   "cell_type": "markdown",
   "metadata": {},
   "source": [
    "> Highest r-squared so far"
   ]
  },
  {
   "cell_type": "markdown",
   "metadata": {},
   "source": [
    "# Combining models"
   ]
  },
  {
   "cell_type": "code",
   "execution_count": 341,
   "metadata": {},
   "outputs": [
    {
     "name": "stdout",
     "output_type": "stream",
     "text": [
      "R-squared of stacked model: -0.15319619082616698\n"
     ]
    }
   ],
   "source": [
    "tree = DecisionTreeRegressor(max_depth=3)\n",
    "# knn = KNeighborsRegressor()\n",
    "\n",
    "# Final estimator\n",
    "logistic = LogisticRegression()\n",
    "\n",
    "# Stacking classifier\n",
    "stacked_model = StackingClassifier(\n",
    "    estimators=[('dt', tree)],\n",
    "    final_estimator=logistic,\n",
    "    passthrough=True,  # Whether to use the original features along with the predictions\n",
    "    cv=5  # Cross-validation strategy for training base models\n",
    ")\n",
    "\n",
    "stacked_model.fit(X_train, y_train)\n",
    "y_hat = stacked_model.predict(X_test)\n",
    "rsq = getRSQ(y_test, y_hat, y)\n",
    "print(f\"R-squared of stacked model: {rsq}\")\n"
   ]
  }
 ],
 "metadata": {
  "kernelspec": {
   "display_name": "base",
   "language": "python",
   "name": "python3"
  },
  "language_info": {
   "codemirror_mode": {
    "name": "ipython",
    "version": 3
   },
   "file_extension": ".py",
   "mimetype": "text/x-python",
   "name": "python",
   "nbconvert_exporter": "python",
   "pygments_lexer": "ipython3",
   "version": "3.9.18"
  }
 },
 "nbformat": 4,
 "nbformat_minor": 2
}
